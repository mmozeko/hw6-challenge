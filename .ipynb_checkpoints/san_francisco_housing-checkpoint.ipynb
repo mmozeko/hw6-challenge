{
 "cells": [
  {
   "cell_type": "raw",
   "metadata": {},
   "source": [
    "##Homework 6 Challenge"
   ]
  },
  {
   "cell_type": "code",
   "execution_count": 153,
   "metadata": {},
   "outputs": [],
   "source": [
    "# Import the required libraries and dependencies\n",
    "import pandas as pd\n",
    "import hvplot.pandas\n",
    "from pathlib import Path\n",
    "import hvplot.pandas"
   ]
  },
  {
   "cell_type": "markdown",
   "metadata": {},
   "source": [
    "## Import the data "
   ]
  },
  {
   "cell_type": "code",
   "execution_count": 154,
   "metadata": {},
   "outputs": [
    {
     "data": {
      "text/html": [
       "<div>\n",
       "<style scoped>\n",
       "    .dataframe tbody tr th:only-of-type {\n",
       "        vertical-align: middle;\n",
       "    }\n",
       "\n",
       "    .dataframe tbody tr th {\n",
       "        vertical-align: top;\n",
       "    }\n",
       "\n",
       "    .dataframe thead th {\n",
       "        text-align: right;\n",
       "    }\n",
       "</style>\n",
       "<table border=\"1\" class=\"dataframe\">\n",
       "  <thead>\n",
       "    <tr style=\"text-align: right;\">\n",
       "      <th></th>\n",
       "      <th>year</th>\n",
       "      <th>neighborhood</th>\n",
       "      <th>sale_price_sqr_foot</th>\n",
       "      <th>housing_units</th>\n",
       "      <th>gross_rent</th>\n",
       "    </tr>\n",
       "  </thead>\n",
       "  <tbody>\n",
       "    <tr>\n",
       "      <th>0</th>\n",
       "      <td>2010</td>\n",
       "      <td>Alamo Square</td>\n",
       "      <td>291.182945</td>\n",
       "      <td>372560</td>\n",
       "      <td>1239</td>\n",
       "    </tr>\n",
       "    <tr>\n",
       "      <th>1</th>\n",
       "      <td>2010</td>\n",
       "      <td>Anza Vista</td>\n",
       "      <td>267.932583</td>\n",
       "      <td>372560</td>\n",
       "      <td>1239</td>\n",
       "    </tr>\n",
       "    <tr>\n",
       "      <th>2</th>\n",
       "      <td>2010</td>\n",
       "      <td>Bayview</td>\n",
       "      <td>170.098665</td>\n",
       "      <td>372560</td>\n",
       "      <td>1239</td>\n",
       "    </tr>\n",
       "    <tr>\n",
       "      <th>3</th>\n",
       "      <td>2010</td>\n",
       "      <td>Buena Vista Park</td>\n",
       "      <td>347.394919</td>\n",
       "      <td>372560</td>\n",
       "      <td>1239</td>\n",
       "    </tr>\n",
       "    <tr>\n",
       "      <th>4</th>\n",
       "      <td>2010</td>\n",
       "      <td>Central Richmond</td>\n",
       "      <td>319.027623</td>\n",
       "      <td>372560</td>\n",
       "      <td>1239</td>\n",
       "    </tr>\n",
       "  </tbody>\n",
       "</table>\n",
       "</div>"
      ],
      "text/plain": [
       "   year      neighborhood  sale_price_sqr_foot  housing_units  gross_rent\n",
       "0  2010      Alamo Square           291.182945         372560        1239\n",
       "1  2010        Anza Vista           267.932583         372560        1239\n",
       "2  2010           Bayview           170.098665         372560        1239\n",
       "3  2010  Buena Vista Park           347.394919         372560        1239\n",
       "4  2010  Central Richmond           319.027623         372560        1239"
      ]
     },
     "metadata": {},
     "output_type": "display_data"
    },
    {
     "data": {
      "text/html": [
       "<div>\n",
       "<style scoped>\n",
       "    .dataframe tbody tr th:only-of-type {\n",
       "        vertical-align: middle;\n",
       "    }\n",
       "\n",
       "    .dataframe tbody tr th {\n",
       "        vertical-align: top;\n",
       "    }\n",
       "\n",
       "    .dataframe thead th {\n",
       "        text-align: right;\n",
       "    }\n",
       "</style>\n",
       "<table border=\"1\" class=\"dataframe\">\n",
       "  <thead>\n",
       "    <tr style=\"text-align: right;\">\n",
       "      <th></th>\n",
       "      <th>year</th>\n",
       "      <th>neighborhood</th>\n",
       "      <th>sale_price_sqr_foot</th>\n",
       "      <th>housing_units</th>\n",
       "      <th>gross_rent</th>\n",
       "    </tr>\n",
       "  </thead>\n",
       "  <tbody>\n",
       "    <tr>\n",
       "      <th>392</th>\n",
       "      <td>2016</td>\n",
       "      <td>Telegraph Hill</td>\n",
       "      <td>903.049771</td>\n",
       "      <td>384242</td>\n",
       "      <td>4390</td>\n",
       "    </tr>\n",
       "    <tr>\n",
       "      <th>393</th>\n",
       "      <td>2016</td>\n",
       "      <td>Twin Peaks</td>\n",
       "      <td>970.085470</td>\n",
       "      <td>384242</td>\n",
       "      <td>4390</td>\n",
       "    </tr>\n",
       "    <tr>\n",
       "      <th>394</th>\n",
       "      <td>2016</td>\n",
       "      <td>Van Ness/ Civic Center</td>\n",
       "      <td>552.602567</td>\n",
       "      <td>384242</td>\n",
       "      <td>4390</td>\n",
       "    </tr>\n",
       "    <tr>\n",
       "      <th>395</th>\n",
       "      <td>2016</td>\n",
       "      <td>Visitacion Valley</td>\n",
       "      <td>328.319007</td>\n",
       "      <td>384242</td>\n",
       "      <td>4390</td>\n",
       "    </tr>\n",
       "    <tr>\n",
       "      <th>396</th>\n",
       "      <td>2016</td>\n",
       "      <td>Westwood Park</td>\n",
       "      <td>631.195426</td>\n",
       "      <td>384242</td>\n",
       "      <td>4390</td>\n",
       "    </tr>\n",
       "  </tbody>\n",
       "</table>\n",
       "</div>"
      ],
      "text/plain": [
       "     year            neighborhood  sale_price_sqr_foot  housing_units  \\\n",
       "392  2016          Telegraph Hill           903.049771         384242   \n",
       "393  2016              Twin Peaks           970.085470         384242   \n",
       "394  2016  Van Ness/ Civic Center           552.602567         384242   \n",
       "395  2016       Visitacion Valley           328.319007         384242   \n",
       "396  2016           Westwood Park           631.195426         384242   \n",
       "\n",
       "     gross_rent  \n",
       "392        4390  \n",
       "393        4390  \n",
       "394        4390  \n",
       "395        4390  \n",
       "396        4390  "
      ]
     },
     "metadata": {},
     "output_type": "display_data"
    }
   ],
   "source": [
    "# Using the read_csv function and Path module, create a DataFrame \n",
    "# by importing the sfo_neighborhoods_census_data.csv file from the Resources folder\n",
    "sfo_data_df = pd.read_csv(\n",
    "    Path(\"Resources\\sfo_neighborhoods_census_data.csv\")\n",
    ")\n",
    "\n",
    "# Review the first and last five rows of the DataFrame\n",
    "display(sfo_data_df.head())\n",
    "display(sfo_data_df.tail())"
   ]
  },
  {
   "cell_type": "markdown",
   "metadata": {},
   "source": [
    "---"
   ]
  },
  {
   "cell_type": "markdown",
   "metadata": {},
   "source": [
    "## Calculate and Plot the Housing Units per Year\n",
    "\n",
    "For this part of the assignment, use numerical and visual aggregation to calculate the number of housing units per year, and then visualize the results as a bar chart. To do so, complete the following steps:\n",
    "\n",
    "1. Use the `groupby` function to group the data by year. Aggregate the results by the `mean` of the groups.\n",
    "\n",
    "2. Use the `hvplot` function to plot the `housing_units_by_year` DataFrame as a bar chart. Make the x-axis represent the `year` and the y-axis represent the `housing_units`.\n",
    "\n",
    "3. Style and format the line plot to ensure a professionally styled visualization.\n",
    "\n",
    "4. Note that your resulting plot should appear similar to the following image:\n",
    "\n",
    "![A screenshot depicts an example of the resulting bar chart.](Images/zoomed-housing-units-by-year.png)\n",
    "\n",
    "5. Answer the following question:\n",
    "\n",
    "    * What’s the overall trend in housing units over the period that you’re analyzing?\n",
    "\n"
   ]
  },
  {
   "cell_type": "markdown",
   "metadata": {},
   "source": [
    "### Step 1: Use the `groupby` function to group the data by year. Aggregate the results by the `mean` of the groups."
   ]
  },
  {
   "cell_type": "code",
   "execution_count": 12,
   "metadata": {},
   "outputs": [
    {
     "data": {
      "text/html": [
       "<div>\n",
       "<style scoped>\n",
       "    .dataframe tbody tr th:only-of-type {\n",
       "        vertical-align: middle;\n",
       "    }\n",
       "\n",
       "    .dataframe tbody tr th {\n",
       "        vertical-align: top;\n",
       "    }\n",
       "\n",
       "    .dataframe thead th {\n",
       "        text-align: right;\n",
       "    }\n",
       "</style>\n",
       "<table border=\"1\" class=\"dataframe\">\n",
       "  <thead>\n",
       "    <tr style=\"text-align: right;\">\n",
       "      <th></th>\n",
       "      <th>housing_units</th>\n",
       "    </tr>\n",
       "    <tr>\n",
       "      <th>year</th>\n",
       "      <th></th>\n",
       "    </tr>\n",
       "  </thead>\n",
       "  <tbody>\n",
       "    <tr>\n",
       "      <th>2010</th>\n",
       "      <td>372560.0</td>\n",
       "    </tr>\n",
       "    <tr>\n",
       "      <th>2011</th>\n",
       "      <td>374507.0</td>\n",
       "    </tr>\n",
       "    <tr>\n",
       "      <th>2012</th>\n",
       "      <td>376454.0</td>\n",
       "    </tr>\n",
       "    <tr>\n",
       "      <th>2013</th>\n",
       "      <td>378401.0</td>\n",
       "    </tr>\n",
       "    <tr>\n",
       "      <th>2014</th>\n",
       "      <td>380348.0</td>\n",
       "    </tr>\n",
       "    <tr>\n",
       "      <th>2015</th>\n",
       "      <td>382295.0</td>\n",
       "    </tr>\n",
       "    <tr>\n",
       "      <th>2016</th>\n",
       "      <td>384242.0</td>\n",
       "    </tr>\n",
       "  </tbody>\n",
       "</table>\n",
       "</div>"
      ],
      "text/plain": [
       "      housing_units\n",
       "year               \n",
       "2010       372560.0\n",
       "2011       374507.0\n",
       "2012       376454.0\n",
       "2013       378401.0\n",
       "2014       380348.0\n",
       "2015       382295.0\n",
       "2016       384242.0"
      ]
     },
     "metadata": {},
     "output_type": "display_data"
    }
   ],
   "source": [
    "# Create a numerical aggregation that groups the data by the year and then averages the results.\n",
    "housing_units_by_year = (\n",
    "    sfo_data_df[[\"year\",\"housing_units\"]]\n",
    "    .groupby(\"year\")\n",
    "    .mean()\n",
    "    .sort_values(\"year\")\n",
    ")\n",
    "# Review the DataFrame\n",
    "display(housing_units_by_year)"
   ]
  },
  {
   "cell_type": "markdown",
   "metadata": {
    "tags": []
   },
   "source": [
    "### Step 2: Use the `hvplot` function to plot the `housing_units_by_year` DataFrame as a bar chart. Make the x-axis represent the `year` and the y-axis represent the `housing_units`.\n",
    "\n",
    "### Step 3: Style and format the line plot to ensure a professionally styled visualization."
   ]
  },
  {
   "cell_type": "code",
   "execution_count": 14,
   "metadata": {},
   "outputs": [
    {
     "data": {},
     "metadata": {},
     "output_type": "display_data"
    },
    {
     "data": {
      "application/vnd.holoviews_exec.v0+json": "",
      "text/html": [
       "<div id='1120'>\n",
       "\n",
       "\n",
       "\n",
       "\n",
       "\n",
       "  <div class=\"bk-root\" id=\"fc6038b7-6b80-4d89-b3df-1130c4e84941\" data-root-id=\"1120\"></div>\n",
       "</div>\n",
       "<script type=\"application/javascript\">(function(root) {\n",
       "  function embed_document(root) {\n",
       "    var docs_json = {\"b239a731-62dc-4ad0-80fe-80b1e1ea3924\":{\"defs\":[{\"extends\":null,\"module\":null,\"name\":\"ReactiveHTML1\",\"overrides\":[],\"properties\":[]},{\"extends\":null,\"module\":null,\"name\":\"FlexBox1\",\"overrides\":[],\"properties\":[{\"default\":\"flex-start\",\"kind\":null,\"name\":\"align_content\"},{\"default\":\"flex-start\",\"kind\":null,\"name\":\"align_items\"},{\"default\":\"row\",\"kind\":null,\"name\":\"flex_direction\"},{\"default\":\"wrap\",\"kind\":null,\"name\":\"flex_wrap\"},{\"default\":\"flex-start\",\"kind\":null,\"name\":\"justify_content\"}]},{\"extends\":null,\"module\":null,\"name\":\"GridStack1\",\"overrides\":[],\"properties\":[{\"default\":\"warn\",\"kind\":null,\"name\":\"mode\"},{\"default\":null,\"kind\":null,\"name\":\"ncols\"},{\"default\":null,\"kind\":null,\"name\":\"nrows\"},{\"default\":true,\"kind\":null,\"name\":\"allow_resize\"},{\"default\":true,\"kind\":null,\"name\":\"allow_drag\"},{\"default\":[],\"kind\":null,\"name\":\"state\"}]},{\"extends\":null,\"module\":null,\"name\":\"click1\",\"overrides\":[],\"properties\":[{\"default\":\"\",\"kind\":null,\"name\":\"terminal_output\"},{\"default\":\"\",\"kind\":null,\"name\":\"debug_name\"},{\"default\":0,\"kind\":null,\"name\":\"clears\"}]},{\"extends\":null,\"module\":null,\"name\":\"TemplateActions1\",\"overrides\":[],\"properties\":[{\"default\":0,\"kind\":null,\"name\":\"open_modal\"},{\"default\":0,\"kind\":null,\"name\":\"close_modal\"}]},{\"extends\":null,\"module\":null,\"name\":\"MaterialTemplateActions1\",\"overrides\":[],\"properties\":[{\"default\":0,\"kind\":null,\"name\":\"open_modal\"},{\"default\":0,\"kind\":null,\"name\":\"close_modal\"}]}],\"roots\":{\"references\":[{\"attributes\":{\"tools\":[{\"id\":\"1124\"},{\"id\":\"1142\"},{\"id\":\"1143\"},{\"id\":\"1144\"},{\"id\":\"1145\"},{\"id\":\"1146\"}]},\"id\":\"1148\",\"type\":\"Toolbar\"},{\"attributes\":{\"format\":\"%.0f\"},\"id\":\"1164\",\"type\":\"PrintfTickFormatter\"},{\"attributes\":{\"bottom_units\":\"screen\",\"coordinates\":null,\"fill_alpha\":0.5,\"fill_color\":\"lightgrey\",\"group\":null,\"left_units\":\"screen\",\"level\":\"overlay\",\"line_alpha\":1.0,\"line_color\":\"black\",\"line_dash\":[4,4],\"line_width\":2,\"right_units\":\"screen\",\"syncable\":false,\"top_units\":\"screen\"},\"id\":\"1147\",\"type\":\"BoxAnnotation\"},{\"attributes\":{},\"id\":\"1142\",\"type\":\"SaveTool\"},{\"attributes\":{\"margin\":[5,5,5,5],\"name\":\"HSpacer01896\",\"sizing_mode\":\"stretch_width\"},\"id\":\"1191\",\"type\":\"Spacer\"},{\"attributes\":{\"end\":385410.2,\"reset_end\":385410.2,\"reset_start\":371391.8,\"start\":371391.8,\"tags\":[[[\"housing_units\",\"housing_units\",null]]]},\"id\":\"1123\",\"type\":\"Range1d\"},{\"attributes\":{},\"id\":\"1143\",\"type\":\"PanTool\"},{\"attributes\":{\"callback\":null,\"renderers\":[{\"id\":\"1161\"}],\"tags\":[\"hv_created\"],\"tooltips\":[[\"year\",\"@{year}\"],[\"housing_units\",\"@{housing_units}\"]]},\"id\":\"1124\",\"type\":\"HoverTool\"},{\"attributes\":{},\"id\":\"1146\",\"type\":\"ResetTool\"},{\"attributes\":{},\"id\":\"1167\",\"type\":\"AllLabels\"},{\"attributes\":{},\"id\":\"1144\",\"type\":\"WheelZoomTool\"},{\"attributes\":{\"margin\":[5,5,5,5],\"name\":\"HSpacer01895\",\"sizing_mode\":\"stretch_width\"},\"id\":\"1121\",\"type\":\"Spacer\"},{\"attributes\":{\"overlay\":{\"id\":\"1147\"}},\"id\":\"1145\",\"type\":\"BoxZoomTool\"},{\"attributes\":{},\"id\":\"1170\",\"type\":\"AllLabels\"},{\"attributes\":{\"source\":{\"id\":\"1155\"}},\"id\":\"1162\",\"type\":\"CDSView\"},{\"attributes\":{\"line_alpha\":0.1,\"line_color\":\"#30a2da\",\"line_width\":2,\"x\":{\"field\":\"year\"},\"y\":{\"field\":\"housing_units\"}},\"id\":\"1159\",\"type\":\"Line\"},{\"attributes\":{},\"id\":\"1130\",\"type\":\"LinearScale\"},{\"attributes\":{\"line_color\":\"#30a2da\",\"line_width\":2,\"x\":{\"field\":\"year\"},\"y\":{\"field\":\"housing_units\"}},\"id\":\"1163\",\"type\":\"Line\"},{\"attributes\":{},\"id\":\"1135\",\"type\":\"BasicTicker\"},{\"attributes\":{},\"id\":\"1179\",\"type\":\"UnionRenderers\"},{\"attributes\":{\"axis\":{\"id\":\"1134\"},\"coordinates\":null,\"grid_line_color\":null,\"group\":null,\"ticker\":null},\"id\":\"1137\",\"type\":\"Grid\"},{\"attributes\":{},\"id\":\"1132\",\"type\":\"LinearScale\"},{\"attributes\":{\"axis_label\":\"Housing Units\",\"coordinates\":null,\"formatter\":{\"id\":\"1164\"},\"group\":null,\"major_label_policy\":{\"id\":\"1170\"},\"ticker\":{\"id\":\"1139\"}},\"id\":\"1138\",\"type\":\"LinearAxis\"},{\"attributes\":{\"axis_label\":\"Year\",\"coordinates\":null,\"formatter\":{\"id\":\"1166\"},\"group\":null,\"major_label_orientation\":1.5707963267948966,\"major_label_policy\":{\"id\":\"1167\"},\"ticker\":{\"id\":\"1135\"}},\"id\":\"1134\",\"type\":\"LinearAxis\"},{\"attributes\":{},\"id\":\"1166\",\"type\":\"BasicTickFormatter\"},{\"attributes\":{\"data\":{\"housing_units\":{\"__ndarray__\":\"AAAAAEC9FkEAAAAArNsWQQAAAAAY+hZBAAAAAIQYF0EAAAAA8DYXQQAAAABcVRdBAAAAAMhzF0E=\",\"dtype\":\"float64\",\"order\":\"little\",\"shape\":[7]},\"year\":[2010,2011,2012,2013,2014,2015,2016]},\"selected\":{\"id\":\"1156\"},\"selection_policy\":{\"id\":\"1179\"}},\"id\":\"1155\",\"type\":\"ColumnDataSource\"},{\"attributes\":{\"coordinates\":null,\"data_source\":{\"id\":\"1155\"},\"glyph\":{\"id\":\"1158\"},\"group\":null,\"hover_glyph\":null,\"muted_glyph\":{\"id\":\"1160\"},\"nonselection_glyph\":{\"id\":\"1159\"},\"selection_glyph\":{\"id\":\"1163\"},\"view\":{\"id\":\"1162\"}},\"id\":\"1161\",\"type\":\"GlyphRenderer\"},{\"attributes\":{\"end\":2016.0,\"reset_end\":2016.0,\"reset_start\":2010.0,\"start\":2010.0,\"tags\":[[[\"year\",\"year\",null]]]},\"id\":\"1122\",\"type\":\"Range1d\"},{\"attributes\":{},\"id\":\"1156\",\"type\":\"Selection\"},{\"attributes\":{\"coordinates\":null,\"group\":null,\"text\":\"Housing Starts per Year from 2010 to 2016\",\"text_color\":\"black\",\"text_font_size\":\"12pt\"},\"id\":\"1126\",\"type\":\"Title\"},{\"attributes\":{\"axis\":{\"id\":\"1138\"},\"coordinates\":null,\"dimension\":1,\"grid_line_color\":null,\"group\":null,\"ticker\":null},\"id\":\"1141\",\"type\":\"Grid\"},{\"attributes\":{\"below\":[{\"id\":\"1134\"}],\"center\":[{\"id\":\"1137\"},{\"id\":\"1141\"}],\"height\":300,\"left\":[{\"id\":\"1138\"}],\"margin\":[5,5,5,5],\"min_border_bottom\":10,\"min_border_left\":10,\"min_border_right\":10,\"min_border_top\":10,\"renderers\":[{\"id\":\"1161\"}],\"sizing_mode\":\"fixed\",\"title\":{\"id\":\"1126\"},\"toolbar\":{\"id\":\"1148\"},\"width\":700,\"x_range\":{\"id\":\"1122\"},\"x_scale\":{\"id\":\"1130\"},\"y_range\":{\"id\":\"1123\"},\"y_scale\":{\"id\":\"1132\"}},\"id\":\"1125\",\"subtype\":\"Figure\",\"type\":\"Plot\"},{\"attributes\":{\"children\":[{\"id\":\"1121\"},{\"id\":\"1125\"},{\"id\":\"1191\"}],\"margin\":[0,0,0,0],\"name\":\"Row01891\",\"tags\":[\"embedded\"]},\"id\":\"1120\",\"type\":\"Row\"},{\"attributes\":{\"line_alpha\":0.2,\"line_color\":\"#30a2da\",\"line_width\":2,\"x\":{\"field\":\"year\"},\"y\":{\"field\":\"housing_units\"}},\"id\":\"1160\",\"type\":\"Line\"},{\"attributes\":{},\"id\":\"1139\",\"type\":\"BasicTicker\"},{\"attributes\":{\"line_color\":\"#30a2da\",\"line_width\":2,\"x\":{\"field\":\"year\"},\"y\":{\"field\":\"housing_units\"}},\"id\":\"1158\",\"type\":\"Line\"}],\"root_ids\":[\"1120\"]},\"title\":\"Bokeh Application\",\"version\":\"2.4.2\"}};\n",
       "    var render_items = [{\"docid\":\"b239a731-62dc-4ad0-80fe-80b1e1ea3924\",\"root_ids\":[\"1120\"],\"roots\":{\"1120\":\"fc6038b7-6b80-4d89-b3df-1130c4e84941\"}}];\n",
       "    root.Bokeh.embed.embed_items_notebook(docs_json, render_items);\n",
       "  }\n",
       "  if (root.Bokeh !== undefined && root.Bokeh.Panel !== undefined) {\n",
       "    embed_document(root);\n",
       "  } else {\n",
       "    var attempts = 0;\n",
       "    var timer = setInterval(function(root) {\n",
       "      if (root.Bokeh !== undefined && root.Bokeh.Panel !== undefined) {\n",
       "        clearInterval(timer);\n",
       "        embed_document(root);\n",
       "      } else if (document.readyState == \"complete\") {\n",
       "        attempts++;\n",
       "        if (attempts > 200) {\n",
       "          clearInterval(timer);\n",
       "          console.log(\"Bokeh: ERROR: Unable to run BokehJS code because BokehJS library is missing\");\n",
       "        }\n",
       "      }\n",
       "    }, 25, root)\n",
       "  }\n",
       "})(window);</script>"
      ],
      "text/plain": [
       ":Curve   [year]   (housing_units)"
      ]
     },
     "execution_count": 14,
     "metadata": {
      "application/vnd.holoviews_exec.v0+json": {
       "id": "1120"
      }
     },
     "output_type": "execute_result"
    }
   ],
   "source": [
    "# Create a visual aggregation explore the housing units by year\n",
    "housing_units_by_year.hvplot(\n",
    "    x='year', \n",
    "    y='housing_units',\n",
    "    rot=90,\n",
    "    xlabel='Year', \n",
    "    ylabel='Housing Units',\n",
    "    title='Housing Starts per Year from 2010 to 2016', \n",
    ").opts(yformatter='%.0f')\n",
    "\n",
    "#3. Style and format the line plot to ensure a professionally styled visualization."
   ]
  },
  {
   "cell_type": "markdown",
   "metadata": {},
   "source": [
    "### Step 5: Answer the following question:"
   ]
  },
  {
   "cell_type": "markdown",
   "metadata": {},
   "source": [
    "**Question:** What is the overall trend in housing_units over the period being analyzed?\n",
    "\n",
    "**Answer: As the line plot demonstrates, housing units have continued an upwards\n",
    "trend from 2010 to 2016"
   ]
  },
  {
   "cell_type": "markdown",
   "metadata": {},
   "source": [
    "---"
   ]
  },
  {
   "cell_type": "markdown",
   "metadata": {},
   "source": [
    "## Calculate and Plot the Average Sale Prices per Square Foot\n",
    "\n",
    "For this part of the assignment, use numerical and visual aggregation to calculate the average prices per square foot, and then visualize the results as a bar chart. To do so, complete the following steps:\n",
    "\n",
    "1. Group the data by year, and then average the results. What’s the lowest gross rent that’s reported for the years that the DataFrame includes?\n",
    "\n",
    "2. Create a new DataFrame named `prices_square_foot_by_year` by filtering out the “housing_units” column. The new DataFrame should include the averages per year for only the sale price per square foot and the gross rent.\n",
    "\n",
    "3. Use hvPlot to plot the `prices_square_foot_by_year` DataFrame as a line plot.\n",
    "\n",
    "    > **Hint** This single plot will include lines for both `sale_price_sqr_foot` and `gross_rent`.\n",
    "\n",
    "4. Style and format the line plot to ensure a professionally styled visualization.\n",
    "\n",
    "5. Note that your resulting plot should appear similar to the following image:\n",
    "\n",
    "![A screenshot depicts an example of the resulting plot.](Images/avg-sale-px-sq-foot-gross-rent.png)\n",
    "\n",
    "6. Use both the `prices_square_foot_by_year` DataFrame and interactive plots to answer the following questions:\n",
    "\n",
    "    * Did any year experience a drop in the average sale price per square foot compared to the previous year?\n",
    "\n",
    "    * If so, did the gross rent increase or decrease during that year?\n",
    "\n"
   ]
  },
  {
   "cell_type": "markdown",
   "metadata": {},
   "source": [
    "### Step 1: Group the data by year, and then average the results."
   ]
  },
  {
   "cell_type": "code",
   "execution_count": 18,
   "metadata": {},
   "outputs": [
    {
     "data": {
      "text/html": [
       "<div>\n",
       "<style scoped>\n",
       "    .dataframe tbody tr th:only-of-type {\n",
       "        vertical-align: middle;\n",
       "    }\n",
       "\n",
       "    .dataframe tbody tr th {\n",
       "        vertical-align: top;\n",
       "    }\n",
       "\n",
       "    .dataframe thead th {\n",
       "        text-align: right;\n",
       "    }\n",
       "</style>\n",
       "<table border=\"1\" class=\"dataframe\">\n",
       "  <thead>\n",
       "    <tr style=\"text-align: right;\">\n",
       "      <th></th>\n",
       "      <th>sale_price_sqr_foot</th>\n",
       "      <th>housing_units</th>\n",
       "      <th>gross_rent</th>\n",
       "    </tr>\n",
       "    <tr>\n",
       "      <th>year</th>\n",
       "      <th></th>\n",
       "      <th></th>\n",
       "      <th></th>\n",
       "    </tr>\n",
       "  </thead>\n",
       "  <tbody>\n",
       "    <tr>\n",
       "      <th>2010</th>\n",
       "      <td>369.344353</td>\n",
       "      <td>372560.0</td>\n",
       "      <td>1239.0</td>\n",
       "    </tr>\n",
       "    <tr>\n",
       "      <th>2011</th>\n",
       "      <td>341.903429</td>\n",
       "      <td>374507.0</td>\n",
       "      <td>1530.0</td>\n",
       "    </tr>\n",
       "    <tr>\n",
       "      <th>2012</th>\n",
       "      <td>399.389968</td>\n",
       "      <td>376454.0</td>\n",
       "      <td>2324.0</td>\n",
       "    </tr>\n",
       "    <tr>\n",
       "      <th>2013</th>\n",
       "      <td>483.600304</td>\n",
       "      <td>378401.0</td>\n",
       "      <td>2971.0</td>\n",
       "    </tr>\n",
       "    <tr>\n",
       "      <th>2014</th>\n",
       "      <td>556.277273</td>\n",
       "      <td>380348.0</td>\n",
       "      <td>3528.0</td>\n",
       "    </tr>\n",
       "    <tr>\n",
       "      <th>2015</th>\n",
       "      <td>632.540352</td>\n",
       "      <td>382295.0</td>\n",
       "      <td>3739.0</td>\n",
       "    </tr>\n",
       "    <tr>\n",
       "      <th>2016</th>\n",
       "      <td>697.643709</td>\n",
       "      <td>384242.0</td>\n",
       "      <td>4390.0</td>\n",
       "    </tr>\n",
       "  </tbody>\n",
       "</table>\n",
       "</div>"
      ],
      "text/plain": [
       "      sale_price_sqr_foot  housing_units  gross_rent\n",
       "year                                                \n",
       "2010           369.344353       372560.0      1239.0\n",
       "2011           341.903429       374507.0      1530.0\n",
       "2012           399.389968       376454.0      2324.0\n",
       "2013           483.600304       378401.0      2971.0\n",
       "2014           556.277273       380348.0      3528.0\n",
       "2015           632.540352       382295.0      3739.0\n",
       "2016           697.643709       384242.0      4390.0"
      ]
     },
     "metadata": {},
     "output_type": "display_data"
    }
   ],
   "source": [
    "# Create a numerical aggregation by grouping the data by year and averaging the results\n",
    "prices_square_foot_by_year = (\n",
    "    sfo_data_df\n",
    "    .groupby(\"year\")\n",
    "    .mean()\n",
    "    .sort_values(\"year\")\n",
    ")\n",
    "# Review the DataFrame\n",
    "display(prices_square_foot_by_year)\n"
   ]
  },
  {
   "cell_type": "markdown",
   "metadata": {},
   "source": [
    "**Question:** What is the lowest gross rent reported for the years included in the DataFrame?\n",
    "\n",
    "**Answer: The lowest gross rent was 1,239 in 2010."
   ]
  },
  {
   "cell_type": "markdown",
   "metadata": {},
   "source": [
    "### Step 2: Create a new DataFrame named `prices_square_foot_by_year` by filtering out the “housing_units” column. The new DataFrame should include the averages per year for only the sale price per square foot and the gross rent."
   ]
  },
  {
   "cell_type": "code",
   "execution_count": 51,
   "metadata": {},
   "outputs": [
    {
     "data": {
      "text/html": [
       "<div>\n",
       "<style scoped>\n",
       "    .dataframe tbody tr th:only-of-type {\n",
       "        vertical-align: middle;\n",
       "    }\n",
       "\n",
       "    .dataframe tbody tr th {\n",
       "        vertical-align: top;\n",
       "    }\n",
       "\n",
       "    .dataframe thead th {\n",
       "        text-align: right;\n",
       "    }\n",
       "</style>\n",
       "<table border=\"1\" class=\"dataframe\">\n",
       "  <thead>\n",
       "    <tr style=\"text-align: right;\">\n",
       "      <th></th>\n",
       "      <th>sale_price_sqr_foot</th>\n",
       "      <th>housing_units</th>\n",
       "      <th>gross_rent</th>\n",
       "    </tr>\n",
       "    <tr>\n",
       "      <th>year</th>\n",
       "      <th></th>\n",
       "      <th></th>\n",
       "      <th></th>\n",
       "    </tr>\n",
       "  </thead>\n",
       "  <tbody>\n",
       "    <tr>\n",
       "      <th>2010</th>\n",
       "      <td>369.344353</td>\n",
       "      <td>372560.0</td>\n",
       "      <td>1239.0</td>\n",
       "    </tr>\n",
       "    <tr>\n",
       "      <th>2011</th>\n",
       "      <td>341.903429</td>\n",
       "      <td>374507.0</td>\n",
       "      <td>1530.0</td>\n",
       "    </tr>\n",
       "    <tr>\n",
       "      <th>2012</th>\n",
       "      <td>399.389968</td>\n",
       "      <td>376454.0</td>\n",
       "      <td>2324.0</td>\n",
       "    </tr>\n",
       "    <tr>\n",
       "      <th>2013</th>\n",
       "      <td>483.600304</td>\n",
       "      <td>378401.0</td>\n",
       "      <td>2971.0</td>\n",
       "    </tr>\n",
       "    <tr>\n",
       "      <th>2014</th>\n",
       "      <td>556.277273</td>\n",
       "      <td>380348.0</td>\n",
       "      <td>3528.0</td>\n",
       "    </tr>\n",
       "    <tr>\n",
       "      <th>2015</th>\n",
       "      <td>632.540352</td>\n",
       "      <td>382295.0</td>\n",
       "      <td>3739.0</td>\n",
       "    </tr>\n",
       "    <tr>\n",
       "      <th>2016</th>\n",
       "      <td>697.643709</td>\n",
       "      <td>384242.0</td>\n",
       "      <td>4390.0</td>\n",
       "    </tr>\n",
       "  </tbody>\n",
       "</table>\n",
       "</div>"
      ],
      "text/plain": [
       "      sale_price_sqr_foot  housing_units  gross_rent\n",
       "year                                                \n",
       "2010           369.344353       372560.0      1239.0\n",
       "2011           341.903429       374507.0      1530.0\n",
       "2012           399.389968       376454.0      2324.0\n",
       "2013           483.600304       378401.0      2971.0\n",
       "2014           556.277273       380348.0      3528.0\n",
       "2015           632.540352       382295.0      3739.0\n",
       "2016           697.643709       384242.0      4390.0"
      ]
     },
     "execution_count": 51,
     "metadata": {},
     "output_type": "execute_result"
    }
   ],
   "source": [
    "# Filter out the housing_units column, creating a new DataFrame \n",
    "# Keep only sale_price_sqr_foot and gross_rent averages per year\n",
    "prices_square_foot_by_year = sfo_data_df[[\"year\",\"neighborhood\",\"sale_price_sqr_foot\",\"gross_rent\"]]\n",
    "prices_square_foot_by_year = (\n",
    "    sfo_data_df\n",
    "    .groupby(\"year\")\n",
    "    .mean()\n",
    "    .sort_values(\"year\")\n",
    ")\n",
    "# Review the DataFrame\n",
    "prices_square_foot_by_year"
   ]
  },
  {
   "cell_type": "markdown",
   "metadata": {},
   "source": [
    "### Step 3: Use hvPlot to plot the `prices_square_foot_by_year` DataFrame as a line plot."
   ]
  },
  {
   "cell_type": "code",
   "execution_count": 52,
   "metadata": {},
   "outputs": [
    {
     "data": {},
     "metadata": {},
     "output_type": "display_data"
    },
    {
     "data": {
      "application/vnd.holoviews_exec.v0+json": "",
      "text/html": [
       "<div id='2418'>\n",
       "\n",
       "\n",
       "\n",
       "\n",
       "\n",
       "  <div class=\"bk-root\" id=\"93b7bb95-ac2e-4273-82d6-0114b3defe85\" data-root-id=\"2418\"></div>\n",
       "</div>\n",
       "<script type=\"application/javascript\">(function(root) {\n",
       "  function embed_document(root) {\n",
       "    var docs_json = {\"f3e3d8a4-1638-4675-93a0-7bfa216e33f3\":{\"defs\":[{\"extends\":null,\"module\":null,\"name\":\"ReactiveHTML1\",\"overrides\":[],\"properties\":[]},{\"extends\":null,\"module\":null,\"name\":\"FlexBox1\",\"overrides\":[],\"properties\":[{\"default\":\"flex-start\",\"kind\":null,\"name\":\"align_content\"},{\"default\":\"flex-start\",\"kind\":null,\"name\":\"align_items\"},{\"default\":\"row\",\"kind\":null,\"name\":\"flex_direction\"},{\"default\":\"wrap\",\"kind\":null,\"name\":\"flex_wrap\"},{\"default\":\"flex-start\",\"kind\":null,\"name\":\"justify_content\"}]},{\"extends\":null,\"module\":null,\"name\":\"GridStack1\",\"overrides\":[],\"properties\":[{\"default\":\"warn\",\"kind\":null,\"name\":\"mode\"},{\"default\":null,\"kind\":null,\"name\":\"ncols\"},{\"default\":null,\"kind\":null,\"name\":\"nrows\"},{\"default\":true,\"kind\":null,\"name\":\"allow_resize\"},{\"default\":true,\"kind\":null,\"name\":\"allow_drag\"},{\"default\":[],\"kind\":null,\"name\":\"state\"}]},{\"extends\":null,\"module\":null,\"name\":\"click1\",\"overrides\":[],\"properties\":[{\"default\":\"\",\"kind\":null,\"name\":\"terminal_output\"},{\"default\":\"\",\"kind\":null,\"name\":\"debug_name\"},{\"default\":0,\"kind\":null,\"name\":\"clears\"}]},{\"extends\":null,\"module\":null,\"name\":\"TemplateActions1\",\"overrides\":[],\"properties\":[{\"default\":0,\"kind\":null,\"name\":\"open_modal\"},{\"default\":0,\"kind\":null,\"name\":\"close_modal\"}]},{\"extends\":null,\"module\":null,\"name\":\"MaterialTemplateActions1\",\"overrides\":[],\"properties\":[{\"default\":0,\"kind\":null,\"name\":\"open_modal\"},{\"default\":0,\"kind\":null,\"name\":\"close_modal\"}]}],\"roots\":{\"references\":[{\"attributes\":{},\"id\":\"2477\",\"type\":\"UnionRenderers\"},{\"attributes\":{\"axis\":{\"id\":\"2436\"},\"coordinates\":null,\"dimension\":1,\"grid_line_color\":null,\"group\":null,\"ticker\":null},\"id\":\"2439\",\"type\":\"Grid\"},{\"attributes\":{\"line_alpha\":0.2,\"line_color\":\"#30a2da\",\"line_width\":2,\"x\":{\"field\":\"year\"},\"y\":{\"field\":\"sale_price_sqr_foot\"}},\"id\":\"2458\",\"type\":\"Line\"},{\"attributes\":{\"callback\":null,\"renderers\":[{\"id\":\"2459\"}],\"tags\":[\"hv_created\"],\"tooltips\":[[\"year\",\"@{year}\"],[\"sale_price_sqr_foot\",\"@{sale_price_sqr_foot}\"]]},\"id\":\"2422\",\"type\":\"HoverTool\"},{\"attributes\":{\"line_alpha\":0.1,\"line_color\":\"#30a2da\",\"line_width\":2,\"x\":{\"field\":\"year\"},\"y\":{\"field\":\"sale_price_sqr_foot\"}},\"id\":\"2457\",\"type\":\"Line\"},{\"attributes\":{},\"id\":\"2442\",\"type\":\"WheelZoomTool\"},{\"attributes\":{\"tools\":[{\"id\":\"2422\"},{\"id\":\"2440\"},{\"id\":\"2441\"},{\"id\":\"2442\"},{\"id\":\"2443\"},{\"id\":\"2444\"}]},\"id\":\"2446\",\"type\":\"Toolbar\"},{\"attributes\":{\"axis\":{\"id\":\"2432\"},\"coordinates\":null,\"grid_line_color\":null,\"group\":null,\"ticker\":null},\"id\":\"2435\",\"type\":\"Grid\"},{\"attributes\":{\"overlay\":{\"id\":\"2445\"}},\"id\":\"2443\",\"type\":\"BoxZoomTool\"},{\"attributes\":{\"axis_label\":\"Price per Square Foot\",\"coordinates\":null,\"formatter\":{\"id\":\"2462\"},\"group\":null,\"major_label_policy\":{\"id\":\"2468\"},\"ticker\":{\"id\":\"2437\"}},\"id\":\"2436\",\"type\":\"LinearAxis\"},{\"attributes\":{\"source\":{\"id\":\"2453\"}},\"id\":\"2460\",\"type\":\"CDSView\"},{\"attributes\":{},\"id\":\"2440\",\"type\":\"SaveTool\"},{\"attributes\":{},\"id\":\"2433\",\"type\":\"BasicTicker\"},{\"attributes\":{\"line_color\":\"#30a2da\",\"line_width\":2,\"x\":{\"field\":\"year\"},\"y\":{\"field\":\"sale_price_sqr_foot\"}},\"id\":\"2461\",\"type\":\"Line\"},{\"attributes\":{},\"id\":\"2454\",\"type\":\"Selection\"},{\"attributes\":{},\"id\":\"2444\",\"type\":\"ResetTool\"},{\"attributes\":{\"margin\":[5,5,5,5],\"name\":\"HSpacer04863\",\"sizing_mode\":\"stretch_width\"},\"id\":\"2419\",\"type\":\"Spacer\"},{\"attributes\":{\"line_color\":\"#30a2da\",\"line_width\":2,\"x\":{\"field\":\"year\"},\"y\":{\"field\":\"sale_price_sqr_foot\"}},\"id\":\"2456\",\"type\":\"Line\"},{\"attributes\":{\"format\":\"%.0f\"},\"id\":\"2462\",\"type\":\"PrintfTickFormatter\"},{\"attributes\":{\"below\":[{\"id\":\"2432\"}],\"center\":[{\"id\":\"2435\"},{\"id\":\"2439\"}],\"height\":300,\"left\":[{\"id\":\"2436\"}],\"margin\":[5,5,5,5],\"min_border_bottom\":10,\"min_border_left\":10,\"min_border_right\":10,\"min_border_top\":10,\"renderers\":[{\"id\":\"2459\"}],\"sizing_mode\":\"fixed\",\"title\":{\"id\":\"2424\"},\"toolbar\":{\"id\":\"2446\"},\"width\":700,\"x_range\":{\"id\":\"2420\"},\"x_scale\":{\"id\":\"2428\"},\"y_range\":{\"id\":\"2421\"},\"y_scale\":{\"id\":\"2430\"}},\"id\":\"2423\",\"subtype\":\"Figure\",\"type\":\"Plot\"},{\"attributes\":{\"data\":{\"sale_price_sqr_foot\":{\"__ndarray__\":\"tgKjeIIVd0Dn7CdydF51QGhijk899nhAZhKk2Jo5fkDGKCTbN2KBQPMTFqRSxINATx33UCbNhUA=\",\"dtype\":\"float64\",\"order\":\"little\",\"shape\":[7]},\"year\":[2010,2011,2012,2013,2014,2015,2016]},\"selected\":{\"id\":\"2454\"},\"selection_policy\":{\"id\":\"2477\"}},\"id\":\"2453\",\"type\":\"ColumnDataSource\"},{\"attributes\":{},\"id\":\"2468\",\"type\":\"AllLabels\"},{\"attributes\":{\"end\":733.2177371101801,\"reset_end\":733.2177371101801,\"reset_start\":306.32940118646263,\"start\":306.32940118646263,\"tags\":[[[\"sale_price_sqr_foot\",\"sale_price_sqr_foot\",null]]]},\"id\":\"2421\",\"type\":\"Range1d\"},{\"attributes\":{\"axis_label\":\"Year\",\"coordinates\":null,\"formatter\":{\"id\":\"2464\"},\"group\":null,\"major_label_orientation\":1.5707963267948966,\"major_label_policy\":{\"id\":\"2465\"},\"ticker\":{\"id\":\"2433\"}},\"id\":\"2432\",\"type\":\"LinearAxis\"},{\"attributes\":{\"coordinates\":null,\"data_source\":{\"id\":\"2453\"},\"glyph\":{\"id\":\"2456\"},\"group\":null,\"hover_glyph\":null,\"muted_glyph\":{\"id\":\"2458\"},\"nonselection_glyph\":{\"id\":\"2457\"},\"selection_glyph\":{\"id\":\"2461\"},\"view\":{\"id\":\"2460\"}},\"id\":\"2459\",\"type\":\"GlyphRenderer\"},{\"attributes\":{},\"id\":\"2465\",\"type\":\"AllLabels\"},{\"attributes\":{},\"id\":\"2441\",\"type\":\"PanTool\"},{\"attributes\":{},\"id\":\"2428\",\"type\":\"LinearScale\"},{\"attributes\":{},\"id\":\"2464\",\"type\":\"BasicTickFormatter\"},{\"attributes\":{},\"id\":\"2430\",\"type\":\"LinearScale\"},{\"attributes\":{\"margin\":[5,5,5,5],\"name\":\"HSpacer04864\",\"sizing_mode\":\"stretch_width\"},\"id\":\"2489\",\"type\":\"Spacer\"},{\"attributes\":{\"bottom_units\":\"screen\",\"coordinates\":null,\"fill_alpha\":0.5,\"fill_color\":\"lightgrey\",\"group\":null,\"left_units\":\"screen\",\"level\":\"overlay\",\"line_alpha\":1.0,\"line_color\":\"black\",\"line_dash\":[4,4],\"line_width\":2,\"right_units\":\"screen\",\"syncable\":false,\"top_units\":\"screen\"},\"id\":\"2445\",\"type\":\"BoxAnnotation\"},{\"attributes\":{\"end\":2016.0,\"reset_end\":2016.0,\"reset_start\":2010.0,\"start\":2010.0,\"tags\":[[[\"year\",\"year\",null]]]},\"id\":\"2420\",\"type\":\"Range1d\"},{\"attributes\":{\"children\":[{\"id\":\"2419\"},{\"id\":\"2423\"},{\"id\":\"2489\"}],\"margin\":[0,0,0,0],\"name\":\"Row04859\",\"tags\":[\"embedded\"]},\"id\":\"2418\",\"type\":\"Row\"},{\"attributes\":{\"coordinates\":null,\"group\":null,\"text\":\"Price per Square Foot for 2010 to 2016\",\"text_color\":\"black\",\"text_font_size\":\"12pt\"},\"id\":\"2424\",\"type\":\"Title\"},{\"attributes\":{},\"id\":\"2437\",\"type\":\"BasicTicker\"}],\"root_ids\":[\"2418\"]},\"title\":\"Bokeh Application\",\"version\":\"2.4.2\"}};\n",
       "    var render_items = [{\"docid\":\"f3e3d8a4-1638-4675-93a0-7bfa216e33f3\",\"root_ids\":[\"2418\"],\"roots\":{\"2418\":\"93b7bb95-ac2e-4273-82d6-0114b3defe85\"}}];\n",
       "    root.Bokeh.embed.embed_items_notebook(docs_json, render_items);\n",
       "  }\n",
       "  if (root.Bokeh !== undefined && root.Bokeh.Panel !== undefined) {\n",
       "    embed_document(root);\n",
       "  } else {\n",
       "    var attempts = 0;\n",
       "    var timer = setInterval(function(root) {\n",
       "      if (root.Bokeh !== undefined && root.Bokeh.Panel !== undefined) {\n",
       "        clearInterval(timer);\n",
       "        embed_document(root);\n",
       "      } else if (document.readyState == \"complete\") {\n",
       "        attempts++;\n",
       "        if (attempts > 200) {\n",
       "          clearInterval(timer);\n",
       "          console.log(\"Bokeh: ERROR: Unable to run BokehJS code because BokehJS library is missing\");\n",
       "        }\n",
       "      }\n",
       "    }, 25, root)\n",
       "  }\n",
       "})(window);</script>"
      ],
      "text/plain": [
       ":Curve   [year]   (sale_price_sqr_foot)"
      ]
     },
     "execution_count": 52,
     "metadata": {
      "application/vnd.holoviews_exec.v0+json": {
       "id": "2418"
      }
     },
     "output_type": "execute_result"
    }
   ],
   "source": [
    "# Plot prices_square_foot_by_year. \n",
    "# Inclued labels for the x- and y-axes, and a title.\n",
    "price_plot = prices_square_foot_by_year.hvplot(\n",
    "    x='year', \n",
    "    y='sale_price_sqr_foot',\n",
    "    rot=90,\n",
    "    xlabel='Year', \n",
    "    ylabel='Price per Square Foot',\n",
    "    title='Price per Square Foot for 2010 to 2016', \n",
    ").opts(yformatter='%.0f')\n",
    "\n",
    "#3. Style and format the line plot to ensure a professionally styled visualization.\n",
    "price_plot"
   ]
  },
  {
   "cell_type": "markdown",
   "metadata": {},
   "source": [
    "### Step 4: Style and format the line plot to ensure a professionally styled visualization."
   ]
  },
  {
   "cell_type": "code",
   "execution_count": 112,
   "metadata": {},
   "outputs": [
    {
     "data": {},
     "metadata": {},
     "output_type": "display_data"
    },
    {
     "data": {
      "application/vnd.holoviews_exec.v0+json": "",
      "text/html": [
       "<div id='4359'>\n",
       "\n",
       "\n",
       "\n",
       "\n",
       "\n",
       "  <div class=\"bk-root\" id=\"7ed974a8-e88c-4667-a148-9a8195004a8d\" data-root-id=\"4359\"></div>\n",
       "</div>\n",
       "<script type=\"application/javascript\">(function(root) {\n",
       "  function embed_document(root) {\n",
       "    var docs_json = {\"89ba5e04-51dd-4b9a-8eb6-49322adc134f\":{\"defs\":[{\"extends\":null,\"module\":null,\"name\":\"ReactiveHTML1\",\"overrides\":[],\"properties\":[]},{\"extends\":null,\"module\":null,\"name\":\"FlexBox1\",\"overrides\":[],\"properties\":[{\"default\":\"flex-start\",\"kind\":null,\"name\":\"align_content\"},{\"default\":\"flex-start\",\"kind\":null,\"name\":\"align_items\"},{\"default\":\"row\",\"kind\":null,\"name\":\"flex_direction\"},{\"default\":\"wrap\",\"kind\":null,\"name\":\"flex_wrap\"},{\"default\":\"flex-start\",\"kind\":null,\"name\":\"justify_content\"}]},{\"extends\":null,\"module\":null,\"name\":\"GridStack1\",\"overrides\":[],\"properties\":[{\"default\":\"warn\",\"kind\":null,\"name\":\"mode\"},{\"default\":null,\"kind\":null,\"name\":\"ncols\"},{\"default\":null,\"kind\":null,\"name\":\"nrows\"},{\"default\":true,\"kind\":null,\"name\":\"allow_resize\"},{\"default\":true,\"kind\":null,\"name\":\"allow_drag\"},{\"default\":[],\"kind\":null,\"name\":\"state\"}]},{\"extends\":null,\"module\":null,\"name\":\"click1\",\"overrides\":[],\"properties\":[{\"default\":\"\",\"kind\":null,\"name\":\"terminal_output\"},{\"default\":\"\",\"kind\":null,\"name\":\"debug_name\"},{\"default\":0,\"kind\":null,\"name\":\"clears\"}]},{\"extends\":null,\"module\":null,\"name\":\"TemplateActions1\",\"overrides\":[],\"properties\":[{\"default\":0,\"kind\":null,\"name\":\"open_modal\"},{\"default\":0,\"kind\":null,\"name\":\"close_modal\"}]},{\"extends\":null,\"module\":null,\"name\":\"MaterialTemplateActions1\",\"overrides\":[],\"properties\":[{\"default\":0,\"kind\":null,\"name\":\"open_modal\"},{\"default\":0,\"kind\":null,\"name\":\"close_modal\"}]}],\"roots\":{\"references\":[{\"attributes\":{},\"id\":\"4383\",\"type\":\"WheelZoomTool\"},{\"attributes\":{\"line_alpha\":0.2,\"line_color\":\"#30a2da\",\"line_width\":2,\"x\":{\"field\":\"year\"},\"y\":{\"field\":\"gross_rent\"}},\"id\":\"4399\",\"type\":\"Line\"},{\"attributes\":{},\"id\":\"4369\",\"type\":\"LinearScale\"},{\"attributes\":{\"coordinates\":null,\"group\":null,\"text\":\"Gross Rent for 2010 to 2016\",\"text_color\":\"black\",\"text_font_size\":\"12pt\"},\"id\":\"4365\",\"type\":\"Title\"},{\"attributes\":{\"axis_label\":\"Gross Rent\",\"coordinates\":null,\"formatter\":{\"id\":\"4403\"},\"group\":null,\"major_label_policy\":{\"id\":\"4409\"},\"ticker\":{\"id\":\"4378\"}},\"id\":\"4377\",\"type\":\"LinearAxis\"},{\"attributes\":{},\"id\":\"4409\",\"type\":\"AllLabels\"},{\"attributes\":{},\"id\":\"4395\",\"type\":\"Selection\"},{\"attributes\":{},\"id\":\"4371\",\"type\":\"LinearScale\"},{\"attributes\":{},\"id\":\"4382\",\"type\":\"PanTool\"},{\"attributes\":{},\"id\":\"4374\",\"type\":\"BasicTicker\"},{\"attributes\":{\"callback\":null,\"renderers\":[{\"id\":\"4400\"}],\"tags\":[\"hv_created\"],\"tooltips\":[[\"year\",\"@{year}\"],[\"gross_rent\",\"@{gross_rent}\"]]},\"id\":\"4363\",\"type\":\"HoverTool\"},{\"attributes\":{\"end\":4705.1,\"reset_end\":4705.1,\"reset_start\":923.9,\"start\":923.9,\"tags\":[[[\"gross_rent\",\"gross_rent\",null]]]},\"id\":\"4362\",\"type\":\"Range1d\"},{\"attributes\":{},\"id\":\"4378\",\"type\":\"BasicTicker\"},{\"attributes\":{\"margin\":[5,5,5,5],\"name\":\"HSpacer08506\",\"sizing_mode\":\"stretch_width\"},\"id\":\"4360\",\"type\":\"Spacer\"},{\"attributes\":{\"coordinates\":null,\"data_source\":{\"id\":\"4394\"},\"glyph\":{\"id\":\"4397\"},\"group\":null,\"hover_glyph\":null,\"muted_glyph\":{\"id\":\"4399\"},\"nonselection_glyph\":{\"id\":\"4398\"},\"selection_glyph\":{\"id\":\"4402\"},\"view\":{\"id\":\"4401\"}},\"id\":\"4400\",\"type\":\"GlyphRenderer\"},{\"attributes\":{},\"id\":\"4418\",\"type\":\"UnionRenderers\"},{\"attributes\":{\"axis\":{\"id\":\"4377\"},\"coordinates\":null,\"dimension\":1,\"grid_line_color\":null,\"group\":null,\"ticker\":null},\"id\":\"4380\",\"type\":\"Grid\"},{\"attributes\":{},\"id\":\"4405\",\"type\":\"BasicTickFormatter\"},{\"attributes\":{\"margin\":[5,5,5,5],\"name\":\"HSpacer08507\",\"sizing_mode\":\"stretch_width\"},\"id\":\"4430\",\"type\":\"Spacer\"},{\"attributes\":{\"children\":[{\"id\":\"4360\"},{\"id\":\"4364\"},{\"id\":\"4430\"}],\"margin\":[0,0,0,0],\"name\":\"Row08502\",\"tags\":[\"embedded\"]},\"id\":\"4359\",\"type\":\"Row\"},{\"attributes\":{\"end\":2016.0,\"reset_end\":2016.0,\"reset_start\":2010.0,\"start\":2010.0,\"tags\":[[[\"year\",\"year\",null]]]},\"id\":\"4361\",\"type\":\"Range1d\"},{\"attributes\":{\"below\":[{\"id\":\"4373\"}],\"center\":[{\"id\":\"4376\"},{\"id\":\"4380\"}],\"height\":300,\"left\":[{\"id\":\"4377\"}],\"margin\":[5,5,5,5],\"min_border_bottom\":10,\"min_border_left\":10,\"min_border_right\":10,\"min_border_top\":10,\"renderers\":[{\"id\":\"4400\"}],\"sizing_mode\":\"fixed\",\"title\":{\"id\":\"4365\"},\"toolbar\":{\"id\":\"4387\"},\"width\":700,\"x_range\":{\"id\":\"4361\"},\"x_scale\":{\"id\":\"4369\"},\"y_range\":{\"id\":\"4362\"},\"y_scale\":{\"id\":\"4371\"}},\"id\":\"4364\",\"subtype\":\"Figure\",\"type\":\"Plot\"},{\"attributes\":{},\"id\":\"4381\",\"type\":\"SaveTool\"},{\"attributes\":{},\"id\":\"4385\",\"type\":\"ResetTool\"},{\"attributes\":{\"axis_label\":\"Year\",\"coordinates\":null,\"formatter\":{\"id\":\"4405\"},\"group\":null,\"major_label_orientation\":1.5707963267948966,\"major_label_policy\":{\"id\":\"4406\"},\"ticker\":{\"id\":\"4374\"}},\"id\":\"4373\",\"type\":\"LinearAxis\"},{\"attributes\":{\"data\":{\"gross_rent\":{\"__ndarray__\":\"AAAAAABck0AAAAAAAOiXQAAAAAAAKKJAAAAAAAA2p0AAAAAAAJCrQAAAAAAANq1AAAAAAAAmsUA=\",\"dtype\":\"float64\",\"order\":\"little\",\"shape\":[7]},\"year\":[2010,2011,2012,2013,2014,2015,2016]},\"selected\":{\"id\":\"4395\"},\"selection_policy\":{\"id\":\"4418\"}},\"id\":\"4394\",\"type\":\"ColumnDataSource\"},{\"attributes\":{\"line_alpha\":0.1,\"line_color\":\"#30a2da\",\"line_width\":2,\"x\":{\"field\":\"year\"},\"y\":{\"field\":\"gross_rent\"}},\"id\":\"4398\",\"type\":\"Line\"},{\"attributes\":{\"bottom_units\":\"screen\",\"coordinates\":null,\"fill_alpha\":0.5,\"fill_color\":\"lightgrey\",\"group\":null,\"left_units\":\"screen\",\"level\":\"overlay\",\"line_alpha\":1.0,\"line_color\":\"black\",\"line_dash\":[4,4],\"line_width\":2,\"right_units\":\"screen\",\"syncable\":false,\"top_units\":\"screen\"},\"id\":\"4386\",\"type\":\"BoxAnnotation\"},{\"attributes\":{\"tools\":[{\"id\":\"4363\"},{\"id\":\"4381\"},{\"id\":\"4382\"},{\"id\":\"4383\"},{\"id\":\"4384\"},{\"id\":\"4385\"}]},\"id\":\"4387\",\"type\":\"Toolbar\"},{\"attributes\":{\"source\":{\"id\":\"4394\"}},\"id\":\"4401\",\"type\":\"CDSView\"},{\"attributes\":{\"line_color\":\"#30a2da\",\"line_width\":2,\"x\":{\"field\":\"year\"},\"y\":{\"field\":\"gross_rent\"}},\"id\":\"4397\",\"type\":\"Line\"},{\"attributes\":{\"overlay\":{\"id\":\"4386\"}},\"id\":\"4384\",\"type\":\"BoxZoomTool\"},{\"attributes\":{\"line_color\":\"#30a2da\",\"line_width\":2,\"x\":{\"field\":\"year\"},\"y\":{\"field\":\"gross_rent\"}},\"id\":\"4402\",\"type\":\"Line\"},{\"attributes\":{},\"id\":\"4406\",\"type\":\"AllLabels\"},{\"attributes\":{\"format\":\"%.0f\"},\"id\":\"4403\",\"type\":\"PrintfTickFormatter\"},{\"attributes\":{\"axis\":{\"id\":\"4373\"},\"coordinates\":null,\"grid_line_color\":null,\"group\":null,\"ticker\":null},\"id\":\"4376\",\"type\":\"Grid\"}],\"root_ids\":[\"4359\"]},\"title\":\"Bokeh Application\",\"version\":\"2.4.2\"}};\n",
       "    var render_items = [{\"docid\":\"89ba5e04-51dd-4b9a-8eb6-49322adc134f\",\"root_ids\":[\"4359\"],\"roots\":{\"4359\":\"7ed974a8-e88c-4667-a148-9a8195004a8d\"}}];\n",
       "    root.Bokeh.embed.embed_items_notebook(docs_json, render_items);\n",
       "  }\n",
       "  if (root.Bokeh !== undefined && root.Bokeh.Panel !== undefined) {\n",
       "    embed_document(root);\n",
       "  } else {\n",
       "    var attempts = 0;\n",
       "    var timer = setInterval(function(root) {\n",
       "      if (root.Bokeh !== undefined && root.Bokeh.Panel !== undefined) {\n",
       "        clearInterval(timer);\n",
       "        embed_document(root);\n",
       "      } else if (document.readyState == \"complete\") {\n",
       "        attempts++;\n",
       "        if (attempts > 200) {\n",
       "          clearInterval(timer);\n",
       "          console.log(\"Bokeh: ERROR: Unable to run BokehJS code because BokehJS library is missing\");\n",
       "        }\n",
       "      }\n",
       "    }, 25, root)\n",
       "  }\n",
       "})(window);</script>"
      ],
      "text/plain": [
       ":Curve   [year]   (gross_rent)"
      ]
     },
     "execution_count": 112,
     "metadata": {
      "application/vnd.holoviews_exec.v0+json": {
       "id": "4359"
      }
     },
     "output_type": "execute_result"
    }
   ],
   "source": [
    "# Plot gross_rent. \n",
    "# Inclued labels for the x- and y-axes, and a title.\n",
    "rent_plot = prices_square_foot_by_year.hvplot(\n",
    "    x='year', \n",
    "    y='gross_rent',\n",
    "    rot=90,\n",
    "    xlabel='Year', \n",
    "    ylabel='Gross Rent',\n",
    "    title='Gross Rent for 2010 to 2016', \n",
    ").opts(yformatter='%.0f')\n",
    "\n",
    "#3. Style and format the line plot to ensure a professionally styled visualization.\n",
    "rent_plot"
   ]
  },
  {
   "cell_type": "code",
   "execution_count": 114,
   "metadata": {},
   "outputs": [
    {
     "data": {},
     "metadata": {},
     "output_type": "display_data"
    },
    {
     "data": {
      "application/vnd.holoviews_exec.v0+json": "",
      "text/html": [
       "<div id='4477'>\n",
       "\n",
       "\n",
       "\n",
       "\n",
       "\n",
       "  <div class=\"bk-root\" id=\"928c27e1-6ddd-4568-a438-6a8f380d8a54\" data-root-id=\"4477\"></div>\n",
       "</div>\n",
       "<script type=\"application/javascript\">(function(root) {\n",
       "  function embed_document(root) {\n",
       "    var docs_json = {\"9d9da7cd-9864-4fe8-b994-d671c513ae18\":{\"defs\":[{\"extends\":null,\"module\":null,\"name\":\"ReactiveHTML1\",\"overrides\":[],\"properties\":[]},{\"extends\":null,\"module\":null,\"name\":\"FlexBox1\",\"overrides\":[],\"properties\":[{\"default\":\"flex-start\",\"kind\":null,\"name\":\"align_content\"},{\"default\":\"flex-start\",\"kind\":null,\"name\":\"align_items\"},{\"default\":\"row\",\"kind\":null,\"name\":\"flex_direction\"},{\"default\":\"wrap\",\"kind\":null,\"name\":\"flex_wrap\"},{\"default\":\"flex-start\",\"kind\":null,\"name\":\"justify_content\"}]},{\"extends\":null,\"module\":null,\"name\":\"GridStack1\",\"overrides\":[],\"properties\":[{\"default\":\"warn\",\"kind\":null,\"name\":\"mode\"},{\"default\":null,\"kind\":null,\"name\":\"ncols\"},{\"default\":null,\"kind\":null,\"name\":\"nrows\"},{\"default\":true,\"kind\":null,\"name\":\"allow_resize\"},{\"default\":true,\"kind\":null,\"name\":\"allow_drag\"},{\"default\":[],\"kind\":null,\"name\":\"state\"}]},{\"extends\":null,\"module\":null,\"name\":\"click1\",\"overrides\":[],\"properties\":[{\"default\":\"\",\"kind\":null,\"name\":\"terminal_output\"},{\"default\":\"\",\"kind\":null,\"name\":\"debug_name\"},{\"default\":0,\"kind\":null,\"name\":\"clears\"}]},{\"extends\":null,\"module\":null,\"name\":\"TemplateActions1\",\"overrides\":[],\"properties\":[{\"default\":0,\"kind\":null,\"name\":\"open_modal\"},{\"default\":0,\"kind\":null,\"name\":\"close_modal\"}]},{\"extends\":null,\"module\":null,\"name\":\"MaterialTemplateActions1\",\"overrides\":[],\"properties\":[{\"default\":0,\"kind\":null,\"name\":\"open_modal\"},{\"default\":0,\"kind\":null,\"name\":\"close_modal\"}]}],\"roots\":{\"references\":[{\"attributes\":{\"axis_label\":\"Price per Square Foot\",\"coordinates\":null,\"formatter\":{\"id\":\"4521\"},\"group\":null,\"major_label_policy\":{\"id\":\"4527\"},\"ticker\":{\"id\":\"4496\"}},\"id\":\"4495\",\"type\":\"LinearAxis\"},{\"attributes\":{\"axis\":{\"id\":\"4541\"},\"coordinates\":null,\"grid_line_color\":null,\"group\":null,\"ticker\":null},\"id\":\"4544\",\"type\":\"Grid\"},{\"attributes\":{\"line_color\":\"#30a2da\",\"line_width\":2,\"x\":{\"field\":\"year\"},\"y\":{\"field\":\"gross_rent\"}},\"id\":\"4565\",\"type\":\"Line\"},{\"attributes\":{\"axis_label\":\"Year\",\"coordinates\":null,\"formatter\":{\"id\":\"4573\"},\"group\":null,\"major_label_orientation\":1.5707963267948966,\"major_label_policy\":{\"id\":\"4574\"},\"ticker\":{\"id\":\"4542\"}},\"id\":\"4541\",\"type\":\"LinearAxis\"},{\"attributes\":{},\"id\":\"4496\",\"type\":\"BasicTicker\"},{\"attributes\":{\"axis\":{\"id\":\"4495\"},\"coordinates\":null,\"dimension\":1,\"grid_line_color\":null,\"group\":null,\"ticker\":null},\"id\":\"4498\",\"type\":\"Grid\"},{\"attributes\":{\"line_alpha\":0.2,\"line_color\":\"#30a2da\",\"line_width\":2,\"x\":{\"field\":\"year\"},\"y\":{\"field\":\"gross_rent\"}},\"id\":\"4567\",\"type\":\"Line\"},{\"attributes\":{},\"id\":\"4546\",\"type\":\"BasicTicker\"},{\"attributes\":{},\"id\":\"4563\",\"type\":\"Selection\"},{\"attributes\":{\"children\":[[{\"id\":\"4482\"},0,0],[{\"id\":\"4532\"},0,1]]},\"id\":\"4600\",\"type\":\"GridBox\"},{\"attributes\":{\"coordinates\":null,\"group\":null,\"text\":\"Gross Rent for 2010 to 2016\",\"text_color\":\"black\",\"text_font_size\":\"12pt\"},\"id\":\"4533\",\"type\":\"Title\"},{\"attributes\":{\"data\":{\"gross_rent\":{\"__ndarray__\":\"AAAAAABck0AAAAAAAOiXQAAAAAAAKKJAAAAAAAA2p0AAAAAAAJCrQAAAAAAANq1AAAAAAAAmsUA=\",\"dtype\":\"float64\",\"order\":\"little\",\"shape\":[7]},\"year\":[2010,2011,2012,2013,2014,2015,2016]},\"selected\":{\"id\":\"4563\"},\"selection_policy\":{\"id\":\"4596\"}},\"id\":\"4562\",\"type\":\"ColumnDataSource\"},{\"attributes\":{},\"id\":\"4539\",\"type\":\"LinearScale\"},{\"attributes\":{\"line_alpha\":0.2,\"line_color\":\"#30a2da\",\"line_width\":2,\"x\":{\"field\":\"year\"},\"y\":{\"field\":\"sale_price_sqr_foot\"}},\"id\":\"4517\",\"type\":\"Line\"},{\"attributes\":{\"coordinates\":null,\"data_source\":{\"id\":\"4512\"},\"glyph\":{\"id\":\"4515\"},\"group\":null,\"hover_glyph\":null,\"muted_glyph\":{\"id\":\"4517\"},\"nonselection_glyph\":{\"id\":\"4516\"},\"selection_glyph\":{\"id\":\"4520\"},\"view\":{\"id\":\"4519\"}},\"id\":\"4518\",\"type\":\"GlyphRenderer\"},{\"attributes\":{\"axis_label\":\"Gross Rent\",\"coordinates\":null,\"formatter\":{\"id\":\"4571\"},\"group\":null,\"major_label_policy\":{\"id\":\"4577\"},\"ticker\":{\"id\":\"4546\"}},\"id\":\"4545\",\"type\":\"LinearAxis\"},{\"attributes\":{},\"id\":\"4527\",\"type\":\"AllLabels\"},{\"attributes\":{},\"id\":\"4542\",\"type\":\"BasicTicker\"},{\"attributes\":{},\"id\":\"4596\",\"type\":\"UnionRenderers\"},{\"attributes\":{\"source\":{\"id\":\"4512\"}},\"id\":\"4519\",\"type\":\"CDSView\"},{\"attributes\":{\"tools\":[{\"id\":\"4481\"},{\"id\":\"4499\"},{\"id\":\"4500\"},{\"id\":\"4501\"},{\"id\":\"4502\"},{\"id\":\"4503\"}]},\"id\":\"4505\",\"type\":\"Toolbar\"},{\"attributes\":{\"bottom_units\":\"screen\",\"coordinates\":null,\"fill_alpha\":0.5,\"fill_color\":\"lightgrey\",\"group\":null,\"left_units\":\"screen\",\"level\":\"overlay\",\"line_alpha\":1.0,\"line_color\":\"black\",\"line_dash\":[4,4],\"line_width\":2,\"right_units\":\"screen\",\"syncable\":false,\"top_units\":\"screen\"},\"id\":\"4504\",\"type\":\"BoxAnnotation\"},{\"attributes\":{},\"id\":\"4499\",\"type\":\"SaveTool\"},{\"attributes\":{\"axis\":{\"id\":\"4545\"},\"coordinates\":null,\"dimension\":1,\"grid_line_color\":null,\"group\":null,\"ticker\":null},\"id\":\"4548\",\"type\":\"Grid\"},{\"attributes\":{},\"id\":\"4500\",\"type\":\"PanTool\"},{\"attributes\":{\"line_color\":\"#30a2da\",\"line_width\":2,\"x\":{\"field\":\"year\"},\"y\":{\"field\":\"gross_rent\"}},\"id\":\"4570\",\"type\":\"Line\"},{\"attributes\":{},\"id\":\"4503\",\"type\":\"ResetTool\"},{\"attributes\":{},\"id\":\"4501\",\"type\":\"WheelZoomTool\"},{\"attributes\":{\"coordinates\":null,\"group\":null,\"text\":\"Price per Square Foot for 2010 to 2016\",\"text_color\":\"black\",\"text_font_size\":\"12pt\"},\"id\":\"4483\",\"type\":\"Title\"},{\"attributes\":{\"overlay\":{\"id\":\"4504\"}},\"id\":\"4502\",\"type\":\"BoxZoomTool\"},{\"attributes\":{\"coordinates\":null,\"data_source\":{\"id\":\"4562\"},\"glyph\":{\"id\":\"4565\"},\"group\":null,\"hover_glyph\":null,\"muted_glyph\":{\"id\":\"4567\"},\"nonselection_glyph\":{\"id\":\"4566\"},\"selection_glyph\":{\"id\":\"4570\"},\"view\":{\"id\":\"4569\"}},\"id\":\"4568\",\"type\":\"GlyphRenderer\"},{\"attributes\":{},\"id\":\"4577\",\"type\":\"AllLabels\"},{\"attributes\":{\"source\":{\"id\":\"4562\"}},\"id\":\"4569\",\"type\":\"CDSView\"},{\"attributes\":{\"tools\":[{\"id\":\"4531\"},{\"id\":\"4549\"},{\"id\":\"4550\"},{\"id\":\"4551\"},{\"id\":\"4552\"},{\"id\":\"4553\"}]},\"id\":\"4555\",\"type\":\"Toolbar\"},{\"attributes\":{\"bottom_units\":\"screen\",\"coordinates\":null,\"fill_alpha\":0.5,\"fill_color\":\"lightgrey\",\"group\":null,\"left_units\":\"screen\",\"level\":\"overlay\",\"line_alpha\":1.0,\"line_color\":\"black\",\"line_dash\":[4,4],\"line_width\":2,\"right_units\":\"screen\",\"syncable\":false,\"top_units\":\"screen\"},\"id\":\"4554\",\"type\":\"BoxAnnotation\"},{\"attributes\":{},\"id\":\"4586\",\"type\":\"UnionRenderers\"},{\"attributes\":{},\"id\":\"4549\",\"type\":\"SaveTool\"},{\"attributes\":{},\"id\":\"4550\",\"type\":\"PanTool\"},{\"attributes\":{},\"id\":\"4553\",\"type\":\"ResetTool\"},{\"attributes\":{},\"id\":\"4551\",\"type\":\"WheelZoomTool\"},{\"attributes\":{\"overlay\":{\"id\":\"4554\"}},\"id\":\"4552\",\"type\":\"BoxZoomTool\"},{\"attributes\":{},\"id\":\"4524\",\"type\":\"AllLabels\"},{\"attributes\":{\"line_color\":\"#30a2da\",\"line_width\":2,\"x\":{\"field\":\"year\"},\"y\":{\"field\":\"sale_price_sqr_foot\"}},\"id\":\"4520\",\"type\":\"Line\"},{\"attributes\":{},\"id\":\"4573\",\"type\":\"BasicTickFormatter\"},{\"attributes\":{\"callback\":null,\"renderers\":[{\"id\":\"4568\"}],\"tags\":[\"hv_created\"],\"tooltips\":[[\"year\",\"@{year}\"],[\"gross_rent\",\"@{gross_rent}\"]]},\"id\":\"4531\",\"type\":\"HoverTool\"},{\"attributes\":{\"end\":4705.1,\"reset_end\":4705.1,\"reset_start\":923.9,\"start\":923.9,\"tags\":[[[\"gross_rent\",\"gross_rent\",null]]]},\"id\":\"4530\",\"type\":\"Range1d\"},{\"attributes\":{\"format\":\"%.0f\"},\"id\":\"4521\",\"type\":\"PrintfTickFormatter\"},{\"attributes\":{\"toolbars\":[{\"id\":\"4505\"},{\"id\":\"4555\"}],\"tools\":[{\"id\":\"4481\"},{\"id\":\"4499\"},{\"id\":\"4500\"},{\"id\":\"4501\"},{\"id\":\"4502\"},{\"id\":\"4503\"},{\"id\":\"4531\"},{\"id\":\"4549\"},{\"id\":\"4550\"},{\"id\":\"4551\"},{\"id\":\"4552\"},{\"id\":\"4553\"}]},\"id\":\"4601\",\"type\":\"ProxyToolbar\"},{\"attributes\":{\"below\":[{\"id\":\"4491\"}],\"center\":[{\"id\":\"4494\"},{\"id\":\"4498\"}],\"height\":300,\"left\":[{\"id\":\"4495\"}],\"margin\":null,\"min_border_bottom\":10,\"min_border_left\":10,\"min_border_right\":10,\"min_border_top\":10,\"renderers\":[{\"id\":\"4518\"}],\"sizing_mode\":\"fixed\",\"title\":{\"id\":\"4483\"},\"toolbar\":{\"id\":\"4505\"},\"toolbar_location\":null,\"width\":700,\"x_range\":{\"id\":\"4479\"},\"x_scale\":{\"id\":\"4487\"},\"y_range\":{\"id\":\"4480\"},\"y_scale\":{\"id\":\"4489\"}},\"id\":\"4482\",\"subtype\":\"Figure\",\"type\":\"Plot\"},{\"attributes\":{\"axis_label\":\"Year\",\"coordinates\":null,\"formatter\":{\"id\":\"4523\"},\"group\":null,\"major_label_orientation\":1.5707963267948966,\"major_label_policy\":{\"id\":\"4524\"},\"ticker\":{\"id\":\"4492\"}},\"id\":\"4491\",\"type\":\"LinearAxis\"},{\"attributes\":{\"callback\":null,\"renderers\":[{\"id\":\"4518\"}],\"tags\":[\"hv_created\"],\"tooltips\":[[\"year\",\"@{year}\"],[\"sale_price_sqr_foot\",\"@{sale_price_sqr_foot}\"]]},\"id\":\"4481\",\"type\":\"HoverTool\"},{\"attributes\":{},\"id\":\"4487\",\"type\":\"LinearScale\"},{\"attributes\":{},\"id\":\"4574\",\"type\":\"AllLabels\"},{\"attributes\":{\"toolbar\":{\"id\":\"4601\"},\"toolbar_location\":\"above\"},\"id\":\"4602\",\"type\":\"ToolbarBox\"},{\"attributes\":{},\"id\":\"4523\",\"type\":\"BasicTickFormatter\"},{\"attributes\":{},\"id\":\"4513\",\"type\":\"Selection\"},{\"attributes\":{\"children\":[{\"id\":\"4602\"},{\"id\":\"4600\"}]},\"id\":\"4603\",\"type\":\"Column\"},{\"attributes\":{\"margin\":[5,5,5,5],\"name\":\"HSpacer08614\",\"sizing_mode\":\"stretch_width\"},\"id\":\"4766\",\"type\":\"Spacer\"},{\"attributes\":{\"line_color\":\"#30a2da\",\"line_width\":2,\"x\":{\"field\":\"year\"},\"y\":{\"field\":\"sale_price_sqr_foot\"}},\"id\":\"4515\",\"type\":\"Line\"},{\"attributes\":{\"below\":[{\"id\":\"4541\"}],\"center\":[{\"id\":\"4544\"},{\"id\":\"4548\"}],\"height\":300,\"left\":[{\"id\":\"4545\"}],\"margin\":null,\"min_border_bottom\":10,\"min_border_left\":10,\"min_border_right\":10,\"min_border_top\":10,\"renderers\":[{\"id\":\"4568\"}],\"sizing_mode\":\"fixed\",\"title\":{\"id\":\"4533\"},\"toolbar\":{\"id\":\"4555\"},\"toolbar_location\":null,\"width\":700,\"x_range\":{\"id\":\"4479\"},\"x_scale\":{\"id\":\"4537\"},\"y_range\":{\"id\":\"4530\"},\"y_scale\":{\"id\":\"4539\"}},\"id\":\"4532\",\"subtype\":\"Figure\",\"type\":\"Plot\"},{\"attributes\":{\"margin\":[5,5,5,5],\"name\":\"HSpacer08613\",\"sizing_mode\":\"stretch_width\"},\"id\":\"4478\",\"type\":\"Spacer\"},{\"attributes\":{\"line_alpha\":0.1,\"line_color\":\"#30a2da\",\"line_width\":2,\"x\":{\"field\":\"year\"},\"y\":{\"field\":\"sale_price_sqr_foot\"}},\"id\":\"4516\",\"type\":\"Line\"},{\"attributes\":{\"format\":\"%.0f\"},\"id\":\"4571\",\"type\":\"PrintfTickFormatter\"},{\"attributes\":{\"end\":2016.0,\"reset_end\":2016.0,\"reset_start\":2010.0,\"start\":2010.0,\"tags\":[[[\"year\",\"year\",null]]]},\"id\":\"4479\",\"type\":\"Range1d\"},{\"attributes\":{\"data\":{\"sale_price_sqr_foot\":{\"__ndarray__\":\"tgKjeIIVd0Dn7CdydF51QGhijk899nhAZhKk2Jo5fkDGKCTbN2KBQPMTFqRSxINATx33UCbNhUA=\",\"dtype\":\"float64\",\"order\":\"little\",\"shape\":[7]},\"year\":[2010,2011,2012,2013,2014,2015,2016]},\"selected\":{\"id\":\"4513\"},\"selection_policy\":{\"id\":\"4586\"}},\"id\":\"4512\",\"type\":\"ColumnDataSource\"},{\"attributes\":{\"end\":733.2177371101801,\"reset_end\":733.2177371101801,\"reset_start\":306.32940118646263,\"start\":306.32940118646263,\"tags\":[[[\"sale_price_sqr_foot\",\"sale_price_sqr_foot\",null]]]},\"id\":\"4480\",\"type\":\"Range1d\"},{\"attributes\":{\"axis\":{\"id\":\"4491\"},\"coordinates\":null,\"grid_line_color\":null,\"group\":null,\"ticker\":null},\"id\":\"4494\",\"type\":\"Grid\"},{\"attributes\":{},\"id\":\"4492\",\"type\":\"BasicTicker\"},{\"attributes\":{\"children\":[{\"id\":\"4478\"},{\"id\":\"4603\"},{\"id\":\"4766\"}],\"margin\":[0,0,0,0],\"name\":\"Row08609\",\"tags\":[\"embedded\"]},\"id\":\"4477\",\"type\":\"Row\"},{\"attributes\":{},\"id\":\"4537\",\"type\":\"LinearScale\"},{\"attributes\":{},\"id\":\"4489\",\"type\":\"LinearScale\"},{\"attributes\":{\"line_alpha\":0.1,\"line_color\":\"#30a2da\",\"line_width\":2,\"x\":{\"field\":\"year\"},\"y\":{\"field\":\"gross_rent\"}},\"id\":\"4566\",\"type\":\"Line\"}],\"root_ids\":[\"4477\"]},\"title\":\"Bokeh Application\",\"version\":\"2.4.2\"}};\n",
       "    var render_items = [{\"docid\":\"9d9da7cd-9864-4fe8-b994-d671c513ae18\",\"root_ids\":[\"4477\"],\"roots\":{\"4477\":\"928c27e1-6ddd-4568-a438-6a8f380d8a54\"}}];\n",
       "    root.Bokeh.embed.embed_items_notebook(docs_json, render_items);\n",
       "  }\n",
       "  if (root.Bokeh !== undefined && root.Bokeh.Panel !== undefined) {\n",
       "    embed_document(root);\n",
       "  } else {\n",
       "    var attempts = 0;\n",
       "    var timer = setInterval(function(root) {\n",
       "      if (root.Bokeh !== undefined && root.Bokeh.Panel !== undefined) {\n",
       "        clearInterval(timer);\n",
       "        embed_document(root);\n",
       "      } else if (document.readyState == \"complete\") {\n",
       "        attempts++;\n",
       "        if (attempts > 200) {\n",
       "          clearInterval(timer);\n",
       "          console.log(\"Bokeh: ERROR: Unable to run BokehJS code because BokehJS library is missing\");\n",
       "        }\n",
       "      }\n",
       "    }, 25, root)\n",
       "  }\n",
       "})(window);</script>"
      ],
      "text/plain": [
       ":Layout\n",
       "   .Curve.I  :Curve   [year]   (sale_price_sqr_foot)\n",
       "   .Curve.II :Curve   [year]   (gross_rent)"
      ]
     },
     "execution_count": 114,
     "metadata": {
      "application/vnd.holoviews_exec.v0+json": {
       "id": "4477"
      }
     },
     "output_type": "execute_result"
    }
   ],
   "source": [
    "#do both plots\n",
    "\n",
    "both_plots = price_plot + rent_plot\n",
    "both_plots\n"
   ]
  },
  {
   "cell_type": "code",
   "execution_count": 50,
   "metadata": {},
   "outputs": [
    {
     "data": {},
     "metadata": {},
     "output_type": "display_data"
    },
    {
     "data": {
      "application/vnd.holoviews_exec.v0+json": "",
      "text/html": [
       "<div id='2300'>\n",
       "\n",
       "\n",
       "\n",
       "\n",
       "\n",
       "  <div class=\"bk-root\" id=\"b8a94934-85f2-4d0e-a72c-44e4d2d25562\" data-root-id=\"2300\"></div>\n",
       "</div>\n",
       "<script type=\"application/javascript\">(function(root) {\n",
       "  function embed_document(root) {\n",
       "    var docs_json = {\"e813001c-9bdb-4879-a0bc-228c34b506ba\":{\"defs\":[{\"extends\":null,\"module\":null,\"name\":\"ReactiveHTML1\",\"overrides\":[],\"properties\":[]},{\"extends\":null,\"module\":null,\"name\":\"FlexBox1\",\"overrides\":[],\"properties\":[{\"default\":\"flex-start\",\"kind\":null,\"name\":\"align_content\"},{\"default\":\"flex-start\",\"kind\":null,\"name\":\"align_items\"},{\"default\":\"row\",\"kind\":null,\"name\":\"flex_direction\"},{\"default\":\"wrap\",\"kind\":null,\"name\":\"flex_wrap\"},{\"default\":\"flex-start\",\"kind\":null,\"name\":\"justify_content\"}]},{\"extends\":null,\"module\":null,\"name\":\"GridStack1\",\"overrides\":[],\"properties\":[{\"default\":\"warn\",\"kind\":null,\"name\":\"mode\"},{\"default\":null,\"kind\":null,\"name\":\"ncols\"},{\"default\":null,\"kind\":null,\"name\":\"nrows\"},{\"default\":true,\"kind\":null,\"name\":\"allow_resize\"},{\"default\":true,\"kind\":null,\"name\":\"allow_drag\"},{\"default\":[],\"kind\":null,\"name\":\"state\"}]},{\"extends\":null,\"module\":null,\"name\":\"click1\",\"overrides\":[],\"properties\":[{\"default\":\"\",\"kind\":null,\"name\":\"terminal_output\"},{\"default\":\"\",\"kind\":null,\"name\":\"debug_name\"},{\"default\":0,\"kind\":null,\"name\":\"clears\"}]},{\"extends\":null,\"module\":null,\"name\":\"TemplateActions1\",\"overrides\":[],\"properties\":[{\"default\":0,\"kind\":null,\"name\":\"open_modal\"},{\"default\":0,\"kind\":null,\"name\":\"close_modal\"}]},{\"extends\":null,\"module\":null,\"name\":\"MaterialTemplateActions1\",\"overrides\":[],\"properties\":[{\"default\":0,\"kind\":null,\"name\":\"open_modal\"},{\"default\":0,\"kind\":null,\"name\":\"close_modal\"}]}],\"roots\":{\"references\":[{\"attributes\":{},\"id\":\"2312\",\"type\":\"LinearScale\"},{\"attributes\":{\"line_alpha\":0.1,\"line_color\":\"#30a2da\",\"line_width\":2,\"x\":{\"field\":\"year\"},\"y\":{\"field\":\"gross_rent\"}},\"id\":\"2339\",\"type\":\"Line\"},{\"attributes\":{\"format\":\"%.0f\"},\"id\":\"2344\",\"type\":\"PrintfTickFormatter\"},{\"attributes\":{\"overlay\":{\"id\":\"2327\"}},\"id\":\"2325\",\"type\":\"BoxZoomTool\"},{\"attributes\":{\"axis\":{\"id\":\"2314\"},\"coordinates\":null,\"grid_line_color\":null,\"group\":null,\"ticker\":null},\"id\":\"2317\",\"type\":\"Grid\"},{\"attributes\":{\"bottom_units\":\"screen\",\"coordinates\":null,\"fill_alpha\":0.5,\"fill_color\":\"lightgrey\",\"group\":null,\"left_units\":\"screen\",\"level\":\"overlay\",\"line_alpha\":1.0,\"line_color\":\"black\",\"line_dash\":[4,4],\"line_width\":2,\"right_units\":\"screen\",\"syncable\":false,\"top_units\":\"screen\"},\"id\":\"2327\",\"type\":\"BoxAnnotation\"},{\"attributes\":{},\"id\":\"2324\",\"type\":\"WheelZoomTool\"},{\"attributes\":{},\"id\":\"2315\",\"type\":\"BasicTicker\"},{\"attributes\":{},\"id\":\"2323\",\"type\":\"PanTool\"},{\"attributes\":{},\"id\":\"2322\",\"type\":\"SaveTool\"},{\"attributes\":{\"coordinates\":null,\"group\":null,\"text\":\"Gross Rent for 2010 to 2016\",\"text_color\":\"black\",\"text_font_size\":\"12pt\"},\"id\":\"2306\",\"type\":\"Title\"},{\"attributes\":{\"data\":{\"gross_rent\":{\"__ndarray__\":\"AAAAAABck0AAAAAAAOiXQAAAAAAAKKJAAAAAAAA2p0AAAAAAAJCrQAAAAAAANq1AAAAAAAAmsUA=\",\"dtype\":\"float64\",\"order\":\"little\",\"shape\":[7]},\"year\":[2010,2011,2012,2013,2014,2015,2016]},\"selected\":{\"id\":\"2336\"},\"selection_policy\":{\"id\":\"2359\"}},\"id\":\"2335\",\"type\":\"ColumnDataSource\"},{\"attributes\":{\"line_color\":\"#30a2da\",\"line_width\":2,\"x\":{\"field\":\"year\"},\"y\":{\"field\":\"gross_rent\"}},\"id\":\"2343\",\"type\":\"Line\"},{\"attributes\":{},\"id\":\"2319\",\"type\":\"BasicTicker\"},{\"attributes\":{},\"id\":\"2346\",\"type\":\"BasicTickFormatter\"},{\"attributes\":{\"margin\":[5,5,5,5],\"name\":\"HSpacer04641\",\"sizing_mode\":\"stretch_width\"},\"id\":\"2371\",\"type\":\"Spacer\"},{\"attributes\":{\"line_alpha\":0.2,\"line_color\":\"#30a2da\",\"line_width\":2,\"x\":{\"field\":\"year\"},\"y\":{\"field\":\"gross_rent\"}},\"id\":\"2340\",\"type\":\"Line\"},{\"attributes\":{\"below\":[{\"id\":\"2314\"}],\"center\":[{\"id\":\"2317\"},{\"id\":\"2321\"}],\"height\":300,\"left\":[{\"id\":\"2318\"}],\"margin\":[5,5,5,5],\"min_border_bottom\":10,\"min_border_left\":10,\"min_border_right\":10,\"min_border_top\":10,\"renderers\":[{\"id\":\"2341\"}],\"sizing_mode\":\"fixed\",\"title\":{\"id\":\"2306\"},\"toolbar\":{\"id\":\"2328\"},\"width\":700,\"x_range\":{\"id\":\"2302\"},\"x_scale\":{\"id\":\"2310\"},\"y_range\":{\"id\":\"2303\"},\"y_scale\":{\"id\":\"2312\"}},\"id\":\"2305\",\"subtype\":\"Figure\",\"type\":\"Plot\"},{\"attributes\":{\"coordinates\":null,\"data_source\":{\"id\":\"2335\"},\"glyph\":{\"id\":\"2338\"},\"group\":null,\"hover_glyph\":null,\"muted_glyph\":{\"id\":\"2340\"},\"nonselection_glyph\":{\"id\":\"2339\"},\"selection_glyph\":{\"id\":\"2343\"},\"view\":{\"id\":\"2342\"}},\"id\":\"2341\",\"type\":\"GlyphRenderer\"},{\"attributes\":{\"children\":[{\"id\":\"2301\"},{\"id\":\"2305\"},{\"id\":\"2371\"}],\"margin\":[0,0,0,0],\"name\":\"Row04636\",\"tags\":[\"embedded\"]},\"id\":\"2300\",\"type\":\"Row\"},{\"attributes\":{\"line_color\":\"#30a2da\",\"line_width\":2,\"x\":{\"field\":\"year\"},\"y\":{\"field\":\"gross_rent\"}},\"id\":\"2338\",\"type\":\"Line\"},{\"attributes\":{\"end\":4705.1,\"reset_end\":4705.1,\"reset_start\":923.9,\"start\":923.9,\"tags\":[[[\"gross_rent\",\"gross_rent\",null]]]},\"id\":\"2303\",\"type\":\"Range1d\"},{\"attributes\":{\"callback\":null,\"renderers\":[{\"id\":\"2341\"}],\"tags\":[\"hv_created\"],\"tooltips\":[[\"year\",\"@{year}\"],[\"gross_rent\",\"@{gross_rent}\"]]},\"id\":\"2304\",\"type\":\"HoverTool\"},{\"attributes\":{},\"id\":\"2336\",\"type\":\"Selection\"},{\"attributes\":{},\"id\":\"2310\",\"type\":\"LinearScale\"},{\"attributes\":{\"axis\":{\"id\":\"2318\"},\"coordinates\":null,\"dimension\":1,\"grid_line_color\":null,\"group\":null,\"ticker\":null},\"id\":\"2321\",\"type\":\"Grid\"},{\"attributes\":{},\"id\":\"2347\",\"type\":\"AllLabels\"},{\"attributes\":{},\"id\":\"2326\",\"type\":\"ResetTool\"},{\"attributes\":{\"tools\":[{\"id\":\"2304\"},{\"id\":\"2322\"},{\"id\":\"2323\"},{\"id\":\"2324\"},{\"id\":\"2325\"},{\"id\":\"2326\"}]},\"id\":\"2328\",\"type\":\"Toolbar\"},{\"attributes\":{\"source\":{\"id\":\"2335\"}},\"id\":\"2342\",\"type\":\"CDSView\"},{\"attributes\":{},\"id\":\"2359\",\"type\":\"UnionRenderers\"},{\"attributes\":{\"end\":2016.0,\"reset_end\":2016.0,\"reset_start\":2010.0,\"start\":2010.0,\"tags\":[[[\"year\",\"year\",null]]]},\"id\":\"2302\",\"type\":\"Range1d\"},{\"attributes\":{},\"id\":\"2350\",\"type\":\"AllLabels\"},{\"attributes\":{\"margin\":[5,5,5,5],\"name\":\"HSpacer04640\",\"sizing_mode\":\"stretch_width\"},\"id\":\"2301\",\"type\":\"Spacer\"},{\"attributes\":{\"axis_label\":\"Year\",\"coordinates\":null,\"formatter\":{\"id\":\"2346\"},\"group\":null,\"major_label_orientation\":1.5707963267948966,\"major_label_policy\":{\"id\":\"2347\"},\"ticker\":{\"id\":\"2315\"}},\"id\":\"2314\",\"type\":\"LinearAxis\"},{\"attributes\":{\"axis_label\":\"Gross Rent\",\"coordinates\":null,\"formatter\":{\"id\":\"2344\"},\"group\":null,\"major_label_policy\":{\"id\":\"2350\"},\"ticker\":{\"id\":\"2319\"}},\"id\":\"2318\",\"type\":\"LinearAxis\"}],\"root_ids\":[\"2300\"]},\"title\":\"Bokeh Application\",\"version\":\"2.4.2\"}};\n",
       "    var render_items = [{\"docid\":\"e813001c-9bdb-4879-a0bc-228c34b506ba\",\"root_ids\":[\"2300\"],\"roots\":{\"2300\":\"b8a94934-85f2-4d0e-a72c-44e4d2d25562\"}}];\n",
       "    root.Bokeh.embed.embed_items_notebook(docs_json, render_items);\n",
       "  }\n",
       "  if (root.Bokeh !== undefined && root.Bokeh.Panel !== undefined) {\n",
       "    embed_document(root);\n",
       "  } else {\n",
       "    var attempts = 0;\n",
       "    var timer = setInterval(function(root) {\n",
       "      if (root.Bokeh !== undefined && root.Bokeh.Panel !== undefined) {\n",
       "        clearInterval(timer);\n",
       "        embed_document(root);\n",
       "      } else if (document.readyState == \"complete\") {\n",
       "        attempts++;\n",
       "        if (attempts > 200) {\n",
       "          clearInterval(timer);\n",
       "          console.log(\"Bokeh: ERROR: Unable to run BokehJS code because BokehJS library is missing\");\n",
       "        }\n",
       "      }\n",
       "    }, 25, root)\n",
       "  }\n",
       "})(window);</script>"
      ],
      "text/plain": [
       ":Curve   [year]   (gross_rent)"
      ]
     },
     "execution_count": 50,
     "metadata": {
      "application/vnd.holoviews_exec.v0+json": {
       "id": "2300"
      }
     },
     "output_type": "execute_result"
    }
   ],
   "source": []
  },
  {
   "cell_type": "markdown",
   "metadata": {},
   "source": [
    "### Step 6: Use both the `prices_square_foot_by_year` DataFrame and interactive plots to answer the following questions:"
   ]
  },
  {
   "cell_type": "markdown",
   "metadata": {},
   "source": [
    "**Question:** Did any year experience a drop in the average sale price per square foot compared to the previous year?\n",
    "\n",
    "**Answer: During 2011 there was a drop in average sale price per square foot."
   ]
  },
  {
   "cell_type": "markdown",
   "metadata": {},
   "source": [
    "**Question:** If so, did the gross rent increase or decrease during that year?\n",
    "\n",
    "**Answer:** The gross rent increased to $1,530 during the year.  Compared to $1,239 the previous year."
   ]
  },
  {
   "cell_type": "markdown",
   "metadata": {},
   "source": [
    "---"
   ]
  },
  {
   "cell_type": "markdown",
   "metadata": {},
   "source": [
    "## Compare the Average Sale Prices by Neighborhood\n",
    "\n",
    "For this part of the assignment, use interactive visualizations and widgets to explore the average sale price per square foot by neighborhood. To do so, complete the following steps:\n",
    "\n",
    "1. Create a new DataFrame that groups the original DataFrame by year and neighborhood. Aggregate the results by the `mean` of the groups.\n",
    "\n",
    "2. Filter out the “housing_units” column to create a DataFrame that includes only the `sale_price_sqr_foot` and `gross_rent` averages per year.\n",
    "\n",
    "3. Create an interactive line plot with hvPlot that visualizes both `sale_price_sqr_foot` and `gross_rent`. Set the x-axis parameter to the year (`x=\"year\"`). Use the `groupby` parameter to create an interactive widget for `neighborhood`.\n",
    "\n",
    "4. Style and format the line plot to ensure a professionally styled visualization.\n",
    "\n",
    "5. Note that your resulting plot should appear similar to the following image:\n",
    "\n",
    "![A screenshot depicts an example of the resulting plot.](Images/pricing-info-by-neighborhood.png)\n",
    "\n",
    "6. Use the interactive visualization to answer the following question:\n",
    "\n",
    "    * For the Anza Vista neighborhood, is the average sale price per square foot for 2016 more or less than the price that’s listed for 2012? \n"
   ]
  },
  {
   "cell_type": "markdown",
   "metadata": {},
   "source": [
    "### Step 1: Create a new DataFrame that groups the original DataFrame by year and neighborhood. Aggregate the results by the `mean` of the groups."
   ]
  },
  {
   "cell_type": "code",
   "execution_count": 139,
   "metadata": {},
   "outputs": [
    {
     "name": "stderr",
     "output_type": "stream",
     "text": [
      "C:\\Users\\Mike\\anaconda3\\envs\\dev\\lib\\site-packages\\IPython\\core\\interactiveshell.py:3457: FutureWarning: Dropping invalid columns in DataFrameGroupBy.mean is deprecated. In a future version, a TypeError will be raised. Before calling .mean, select only columns which should be valid for the function.\n",
      "  exec(code_obj, self.user_global_ns, self.user_ns)\n"
     ]
    },
    {
     "data": {
      "text/html": [
       "<div>\n",
       "<style scoped>\n",
       "    .dataframe tbody tr th:only-of-type {\n",
       "        vertical-align: middle;\n",
       "    }\n",
       "\n",
       "    .dataframe tbody tr th {\n",
       "        vertical-align: top;\n",
       "    }\n",
       "\n",
       "    .dataframe thead th {\n",
       "        text-align: right;\n",
       "    }\n",
       "</style>\n",
       "<table border=\"1\" class=\"dataframe\">\n",
       "  <thead>\n",
       "    <tr style=\"text-align: right;\">\n",
       "      <th></th>\n",
       "      <th>year</th>\n",
       "      <th>neighborhood</th>\n",
       "      <th>sale_price_sqr_foot</th>\n",
       "      <th>gross_rent</th>\n",
       "    </tr>\n",
       "  </thead>\n",
       "  <tbody>\n",
       "    <tr>\n",
       "      <th>0</th>\n",
       "      <td>2010</td>\n",
       "      <td>Alamo Square</td>\n",
       "      <td>291.182945</td>\n",
       "      <td>1239</td>\n",
       "    </tr>\n",
       "    <tr>\n",
       "      <th>1</th>\n",
       "      <td>2010</td>\n",
       "      <td>Anza Vista</td>\n",
       "      <td>267.932583</td>\n",
       "      <td>1239</td>\n",
       "    </tr>\n",
       "    <tr>\n",
       "      <th>2</th>\n",
       "      <td>2010</td>\n",
       "      <td>Bayview</td>\n",
       "      <td>170.098665</td>\n",
       "      <td>1239</td>\n",
       "    </tr>\n",
       "    <tr>\n",
       "      <th>3</th>\n",
       "      <td>2010</td>\n",
       "      <td>Buena Vista Park</td>\n",
       "      <td>347.394919</td>\n",
       "      <td>1239</td>\n",
       "    </tr>\n",
       "    <tr>\n",
       "      <th>4</th>\n",
       "      <td>2010</td>\n",
       "      <td>Central Richmond</td>\n",
       "      <td>319.027623</td>\n",
       "      <td>1239</td>\n",
       "    </tr>\n",
       "    <tr>\n",
       "      <th>...</th>\n",
       "      <td>...</td>\n",
       "      <td>...</td>\n",
       "      <td>...</td>\n",
       "      <td>...</td>\n",
       "    </tr>\n",
       "    <tr>\n",
       "      <th>392</th>\n",
       "      <td>2016</td>\n",
       "      <td>Telegraph Hill</td>\n",
       "      <td>903.049771</td>\n",
       "      <td>4390</td>\n",
       "    </tr>\n",
       "    <tr>\n",
       "      <th>393</th>\n",
       "      <td>2016</td>\n",
       "      <td>Twin Peaks</td>\n",
       "      <td>970.085470</td>\n",
       "      <td>4390</td>\n",
       "    </tr>\n",
       "    <tr>\n",
       "      <th>394</th>\n",
       "      <td>2016</td>\n",
       "      <td>Van Ness/ Civic Center</td>\n",
       "      <td>552.602567</td>\n",
       "      <td>4390</td>\n",
       "    </tr>\n",
       "    <tr>\n",
       "      <th>395</th>\n",
       "      <td>2016</td>\n",
       "      <td>Visitacion Valley</td>\n",
       "      <td>328.319007</td>\n",
       "      <td>4390</td>\n",
       "    </tr>\n",
       "    <tr>\n",
       "      <th>396</th>\n",
       "      <td>2016</td>\n",
       "      <td>Westwood Park</td>\n",
       "      <td>631.195426</td>\n",
       "      <td>4390</td>\n",
       "    </tr>\n",
       "  </tbody>\n",
       "</table>\n",
       "<p>397 rows × 4 columns</p>\n",
       "</div>"
      ],
      "text/plain": [
       "     year            neighborhood  sale_price_sqr_foot  gross_rent\n",
       "0    2010            Alamo Square           291.182945        1239\n",
       "1    2010              Anza Vista           267.932583        1239\n",
       "2    2010                 Bayview           170.098665        1239\n",
       "3    2010        Buena Vista Park           347.394919        1239\n",
       "4    2010        Central Richmond           319.027623        1239\n",
       "..    ...                     ...                  ...         ...\n",
       "392  2016          Telegraph Hill           903.049771        4390\n",
       "393  2016              Twin Peaks           970.085470        4390\n",
       "394  2016  Van Ness/ Civic Center           552.602567        4390\n",
       "395  2016       Visitacion Valley           328.319007        4390\n",
       "396  2016           Westwood Park           631.195426        4390\n",
       "\n",
       "[397 rows x 4 columns]"
      ]
     },
     "execution_count": 139,
     "metadata": {},
     "output_type": "execute_result"
    }
   ],
   "source": [
    "# Group by year and neighborhood and then create a new dataframe of the mean values\n",
    "\n",
    "prices_by_year_by_neighborhood = sfo_data_df[[\"year\",\"neighborhood\",\"sale_price_sqr_foot\",\"gross_rent\"]]\n",
    "\n",
    "#prices_by_year_by_neighborhood = sfo_data_df.groupby[[\"year\",\"neighborhood\"]].mean()\n",
    "\n",
    "#plot_prices_by_year_by_neighborhood = prices_by_year_by_neighborhood.groupby('year','neighborhood']])    groupby('year')['neighborhood'].mean())\n",
    "# Create a DataFrame containing the average home sale per day for the\n",
    "\n",
    "plot_prices_by_year_by_neighborhood = (\n",
    "    prices_by_year_by_neighborhood[[\"year\", \"neighborhood\"]]\n",
    "    .groupby(\"year\")\n",
    "    .mean()\n",
    "    .sort_values(\"year\")\n",
    ")      \n",
    "\n",
    "# Review the DataFrame\n",
    "prices_by_year_by_neighborhood"
   ]
  },
  {
   "cell_type": "markdown",
   "metadata": {},
   "source": [
    "### Step 2: Filter out the “housing_units” column to create a DataFrame that includes only the `sale_price_sqr_foot` and `gross_rent` averages per year."
   ]
  },
  {
   "cell_type": "code",
   "execution_count": 140,
   "metadata": {},
   "outputs": [
    {
     "data": {
      "text/html": [
       "<div>\n",
       "<style scoped>\n",
       "    .dataframe tbody tr th:only-of-type {\n",
       "        vertical-align: middle;\n",
       "    }\n",
       "\n",
       "    .dataframe tbody tr th {\n",
       "        vertical-align: top;\n",
       "    }\n",
       "\n",
       "    .dataframe thead th {\n",
       "        text-align: right;\n",
       "    }\n",
       "</style>\n",
       "<table border=\"1\" class=\"dataframe\">\n",
       "  <thead>\n",
       "    <tr style=\"text-align: right;\">\n",
       "      <th></th>\n",
       "      <th>year</th>\n",
       "      <th>neighborhood</th>\n",
       "      <th>sale_price_sqr_foot</th>\n",
       "      <th>gross_rent</th>\n",
       "    </tr>\n",
       "  </thead>\n",
       "  <tbody>\n",
       "    <tr>\n",
       "      <th>0</th>\n",
       "      <td>2010</td>\n",
       "      <td>Alamo Square</td>\n",
       "      <td>291.182945</td>\n",
       "      <td>1239</td>\n",
       "    </tr>\n",
       "    <tr>\n",
       "      <th>1</th>\n",
       "      <td>2010</td>\n",
       "      <td>Anza Vista</td>\n",
       "      <td>267.932583</td>\n",
       "      <td>1239</td>\n",
       "    </tr>\n",
       "    <tr>\n",
       "      <th>2</th>\n",
       "      <td>2010</td>\n",
       "      <td>Bayview</td>\n",
       "      <td>170.098665</td>\n",
       "      <td>1239</td>\n",
       "    </tr>\n",
       "    <tr>\n",
       "      <th>3</th>\n",
       "      <td>2010</td>\n",
       "      <td>Buena Vista Park</td>\n",
       "      <td>347.394919</td>\n",
       "      <td>1239</td>\n",
       "    </tr>\n",
       "    <tr>\n",
       "      <th>4</th>\n",
       "      <td>2010</td>\n",
       "      <td>Central Richmond</td>\n",
       "      <td>319.027623</td>\n",
       "      <td>1239</td>\n",
       "    </tr>\n",
       "  </tbody>\n",
       "</table>\n",
       "</div>"
      ],
      "text/plain": [
       "   year      neighborhood  sale_price_sqr_foot  gross_rent\n",
       "0  2010      Alamo Square           291.182945        1239\n",
       "1  2010        Anza Vista           267.932583        1239\n",
       "2  2010           Bayview           170.098665        1239\n",
       "3  2010  Buena Vista Park           347.394919        1239\n",
       "4  2010  Central Richmond           319.027623        1239"
      ]
     },
     "metadata": {},
     "output_type": "display_data"
    },
    {
     "data": {
      "text/html": [
       "<div>\n",
       "<style scoped>\n",
       "    .dataframe tbody tr th:only-of-type {\n",
       "        vertical-align: middle;\n",
       "    }\n",
       "\n",
       "    .dataframe tbody tr th {\n",
       "        vertical-align: top;\n",
       "    }\n",
       "\n",
       "    .dataframe thead th {\n",
       "        text-align: right;\n",
       "    }\n",
       "</style>\n",
       "<table border=\"1\" class=\"dataframe\">\n",
       "  <thead>\n",
       "    <tr style=\"text-align: right;\">\n",
       "      <th></th>\n",
       "      <th>year</th>\n",
       "      <th>neighborhood</th>\n",
       "      <th>sale_price_sqr_foot</th>\n",
       "      <th>gross_rent</th>\n",
       "    </tr>\n",
       "  </thead>\n",
       "  <tbody>\n",
       "    <tr>\n",
       "      <th>392</th>\n",
       "      <td>2016</td>\n",
       "      <td>Telegraph Hill</td>\n",
       "      <td>903.049771</td>\n",
       "      <td>4390</td>\n",
       "    </tr>\n",
       "    <tr>\n",
       "      <th>393</th>\n",
       "      <td>2016</td>\n",
       "      <td>Twin Peaks</td>\n",
       "      <td>970.085470</td>\n",
       "      <td>4390</td>\n",
       "    </tr>\n",
       "    <tr>\n",
       "      <th>394</th>\n",
       "      <td>2016</td>\n",
       "      <td>Van Ness/ Civic Center</td>\n",
       "      <td>552.602567</td>\n",
       "      <td>4390</td>\n",
       "    </tr>\n",
       "    <tr>\n",
       "      <th>395</th>\n",
       "      <td>2016</td>\n",
       "      <td>Visitacion Valley</td>\n",
       "      <td>328.319007</td>\n",
       "      <td>4390</td>\n",
       "    </tr>\n",
       "    <tr>\n",
       "      <th>396</th>\n",
       "      <td>2016</td>\n",
       "      <td>Westwood Park</td>\n",
       "      <td>631.195426</td>\n",
       "      <td>4390</td>\n",
       "    </tr>\n",
       "  </tbody>\n",
       "</table>\n",
       "</div>"
      ],
      "text/plain": [
       "     year            neighborhood  sale_price_sqr_foot  gross_rent\n",
       "392  2016          Telegraph Hill           903.049771        4390\n",
       "393  2016              Twin Peaks           970.085470        4390\n",
       "394  2016  Van Ness/ Civic Center           552.602567        4390\n",
       "395  2016       Visitacion Valley           328.319007        4390\n",
       "396  2016           Westwood Park           631.195426        4390"
      ]
     },
     "metadata": {},
     "output_type": "display_data"
    }
   ],
   "source": [
    "# Filter out the housing_units\n",
    "#prices_by_year_by_neighborhood filtered out above\n",
    "\n",
    "# Review the first and last five rows of the DataFrame\n",
    "display(prices_by_year_by_neighborhood.head())\n",
    "display(prices_by_year_by_neighborhood.tail())"
   ]
  },
  {
   "cell_type": "code",
   "execution_count": null,
   "metadata": {},
   "outputs": [],
   "source": []
  },
  {
   "cell_type": "markdown",
   "metadata": {},
   "source": [
    "### Step 3: Create an interactive line plot with hvPlot that visualizes both `sale_price_sqr_foot` and `gross_rent`. Set the x-axis parameter to the year (`x=\"year\"`). Use the `groupby` parameter to create an interactive widget for `neighborhood`."
   ]
  },
  {
   "cell_type": "code",
   "execution_count": null,
   "metadata": {},
   "outputs": [],
   "source": [
    "   # Plot prices_square_foot_by_year. \n",
    "# Inclued labels for the x- and y-axes, and a title.\n",
    "prices_by_year_by_neighborhood_plot = prices_by_year_by_neighborhood.hvplot(\n",
    "    x='year', \n",
    "    y='sale_price_sqr_foot',\n",
    "    rot=90,\n",
    "    xlabel='Year', \n",
    "    ylabel='Price per Square Foot',\n",
    "    title='Price per Square Foot by Neighborhood', \n",
    ").opts(yformatter='%.0f')"
   ]
  },
  {
   "cell_type": "markdown",
   "metadata": {},
   "source": [
    "### Step 4: Style and format the line plot to ensure a professionally styled visualization."
   ]
  },
  {
   "cell_type": "code",
   "execution_count": null,
   "metadata": {},
   "outputs": [
    {
     "data": {},
     "metadata": {},
     "output_type": "display_data"
    },
    {
     "data": {
      "application/vnd.holoviews_exec.v0+json": "",
      "text/html": [
       "<div id='6739'>\n",
       "\n",
       "\n",
       "\n",
       "\n",
       "\n",
       "  <div class=\"bk-root\" id=\"735482cf-70d9-477c-b2c5-7ceffd967652\" data-root-id=\"6739\"></div>\n",
       "</div>\n",
       "<script type=\"application/javascript\">(function(root) {\n",
       "  function embed_document(root) {\n",
       "    var docs_json = {\"f7c75bb1-d8be-4c31-9eb2-a36a41c20790\":{\"defs\":[{\"extends\":null,\"module\":null,\"name\":\"ReactiveHTML1\",\"overrides\":[],\"properties\":[]},{\"extends\":null,\"module\":null,\"name\":\"FlexBox1\",\"overrides\":[],\"properties\":[{\"default\":\"flex-start\",\"kind\":null,\"name\":\"align_content\"},{\"default\":\"flex-start\",\"kind\":null,\"name\":\"align_items\"},{\"default\":\"row\",\"kind\":null,\"name\":\"flex_direction\"},{\"default\":\"wrap\",\"kind\":null,\"name\":\"flex_wrap\"},{\"default\":\"flex-start\",\"kind\":null,\"name\":\"justify_content\"}]},{\"extends\":null,\"module\":null,\"name\":\"GridStack1\",\"overrides\":[],\"properties\":[{\"default\":\"warn\",\"kind\":null,\"name\":\"mode\"},{\"default\":null,\"kind\":null,\"name\":\"ncols\"},{\"default\":null,\"kind\":null,\"name\":\"nrows\"},{\"default\":true,\"kind\":null,\"name\":\"allow_resize\"},{\"default\":true,\"kind\":null,\"name\":\"allow_drag\"},{\"default\":[],\"kind\":null,\"name\":\"state\"}]},{\"extends\":null,\"module\":null,\"name\":\"click1\",\"overrides\":[],\"properties\":[{\"default\":\"\",\"kind\":null,\"name\":\"terminal_output\"},{\"default\":\"\",\"kind\":null,\"name\":\"debug_name\"},{\"default\":0,\"kind\":null,\"name\":\"clears\"}]},{\"extends\":null,\"module\":null,\"name\":\"TemplateActions1\",\"overrides\":[],\"properties\":[{\"default\":0,\"kind\":null,\"name\":\"open_modal\"},{\"default\":0,\"kind\":null,\"name\":\"close_modal\"}]},{\"extends\":null,\"module\":null,\"name\":\"MaterialTemplateActions1\",\"overrides\":[],\"properties\":[{\"default\":0,\"kind\":null,\"name\":\"open_modal\"},{\"default\":0,\"kind\":null,\"name\":\"close_modal\"}]}],\"roots\":{\"references\":[{\"attributes\":{},\"id\":\"6751\",\"type\":\"LinearScale\"},{\"attributes\":{\"source\":{\"id\":\"6774\"}},\"id\":\"6781\",\"type\":\"CDSView\"},{\"attributes\":{\"fill_alpha\":{\"value\":0.2},\"fill_color\":{\"field\":\"Variable\",\"transform\":{\"id\":\"6773\"}},\"hatch_alpha\":{\"value\":0.2},\"hatch_color\":{\"field\":\"Variable\",\"transform\":{\"id\":\"6773\"}},\"line_alpha\":{\"value\":0.2},\"top\":{\"field\":\"value\"},\"width\":{\"value\":0.8},\"x\":{\"field\":\"xoffsets\"}},\"id\":\"6779\",\"type\":\"VBar\"},{\"attributes\":{},\"id\":\"6784\",\"type\":\"CategoricalTickFormatter\"},{\"attributes\":{\"bottom_units\":\"screen\",\"coordinates\":null,\"fill_alpha\":0.5,\"fill_color\":\"lightgrey\",\"group\":null,\"left_units\":\"screen\",\"level\":\"overlay\",\"line_alpha\":1.0,\"line_color\":\"black\",\"line_dash\":[4,4],\"line_width\":2,\"right_units\":\"screen\",\"syncable\":false,\"top_units\":\"screen\"},\"id\":\"6765\",\"type\":\"BoxAnnotation\"},{\"attributes\":{\"axis\":{\"id\":\"6753\"},\"coordinates\":null,\"grid_line_color\":null,\"group\":null,\"ticker\":null},\"id\":\"6755\",\"type\":\"Grid\"},{\"attributes\":{\"children\":[{\"id\":\"6740\"},{\"id\":\"6744\"},{\"id\":\"6815\"},{\"id\":\"6816\"}],\"margin\":[0,0,0,0],\"name\":\"Row13607\"},\"id\":\"6739\",\"type\":\"Row\"},{\"attributes\":{},\"id\":\"6757\",\"type\":\"BasicTicker\"},{\"attributes\":{\"client_comm_id\":\"c00eb5f08b4a46c18f1d9d50a533fb67\",\"comm_id\":\"cc5dc3159bf74547b48d1abcf65f9051\",\"plot_id\":\"6739\"},\"id\":\"6851\",\"type\":\"panel.models.comm_manager.CommManager\"},{\"attributes\":{\"children\":[{\"id\":\"6819\"}],\"css_classes\":[\"panel-widget-box\"],\"margin\":[5,5,5,5],\"name\":\"WidgetBox13608\"},\"id\":\"6818\",\"type\":\"Column\"},{\"attributes\":{},\"id\":\"6754\",\"type\":\"CategoricalTicker\"},{\"attributes\":{\"factors\":[\"year\",\"sale_price_sqr_foot\",\"gross_rent\"],\"palette\":[\"#30a2da\",\"#fc4f30\",\"#e5ae38\"]},\"id\":\"6773\",\"type\":\"CategoricalColorMapper\"},{\"attributes\":{\"factors\":[[\"0\",\"gross_rent\"],[\"0\",\"sale_price_sqr_foot\"],[\"0\",\"year\"],[\"59\",\"gross_rent\"],[\"59\",\"sale_price_sqr_foot\"],[\"59\",\"year\"],[\"118\",\"gross_rent\"],[\"118\",\"sale_price_sqr_foot\"],[\"118\",\"year\"],[\"176\",\"gross_rent\"],[\"176\",\"sale_price_sqr_foot\"],[\"176\",\"year\"],[\"233\",\"gross_rent\"],[\"233\",\"sale_price_sqr_foot\"],[\"233\",\"year\"],[\"293\",\"gross_rent\"],[\"293\",\"sale_price_sqr_foot\"],[\"293\",\"year\"],[\"351\",\"gross_rent\"],[\"351\",\"sale_price_sqr_foot\"],[\"351\",\"year\"]],\"tags\":[[[\"index\",\"index\",null],[\"Variable\",\"Variable\",null]]]},\"id\":\"6741\",\"type\":\"FactorRange\"},{\"attributes\":{\"coordinates\":null,\"group\":null,\"text\":\"neighborhood: Alamo Square\",\"text_color\":\"black\",\"text_font_size\":\"12pt\"},\"id\":\"6745\",\"type\":\"Title\"},{\"attributes\":{\"end\":4810.690068306854,\"reset_end\":4810.690068306854,\"reset_start\":0.0,\"tags\":[[[\"value\",\"value\",null]]]},\"id\":\"6742\",\"type\":\"Range1d\"},{\"attributes\":{\"axis_label\":\"\",\"coordinates\":null,\"formatter\":{\"id\":\"6787\"},\"group\":null,\"major_label_policy\":{\"id\":\"6788\"},\"ticker\":{\"id\":\"6757\"}},\"id\":\"6756\",\"type\":\"LinearAxis\"},{\"attributes\":{\"axis\":{\"id\":\"6756\"},\"coordinates\":null,\"dimension\":1,\"grid_line_color\":null,\"group\":null,\"ticker\":null},\"id\":\"6759\",\"type\":\"Grid\"},{\"attributes\":{\"fill_color\":{\"field\":\"Variable\",\"transform\":{\"id\":\"6773\"}},\"hatch_color\":{\"field\":\"Variable\",\"transform\":{\"id\":\"6773\"}},\"top\":{\"field\":\"value\"},\"width\":{\"value\":0.8},\"x\":{\"field\":\"xoffsets\"}},\"id\":\"6777\",\"type\":\"VBar\"},{\"attributes\":{},\"id\":\"6785\",\"type\":\"AllLabels\"},{\"attributes\":{\"margin\":[5,5,5,5],\"name\":\"HSpacer13616\",\"sizing_mode\":\"stretch_width\"},\"id\":\"6740\",\"type\":\"Spacer\"},{\"attributes\":{\"margin\":[5,5,5,5],\"name\":\"VSpacer13614\",\"sizing_mode\":\"stretch_height\"},\"id\":\"6820\",\"type\":\"Spacer\"},{\"attributes\":{},\"id\":\"6749\",\"type\":\"CategoricalScale\"},{\"attributes\":{},\"id\":\"6802\",\"type\":\"UnionRenderers\"},{\"attributes\":{\"axis_label\":\"\",\"coordinates\":null,\"formatter\":{\"id\":\"6784\"},\"group\":null,\"major_label_orientation\":0.7853981633974483,\"major_label_policy\":{\"id\":\"6785\"},\"ticker\":{\"id\":\"6754\"}},\"id\":\"6753\",\"type\":\"CategoricalAxis\"},{\"attributes\":{\"coordinates\":null,\"data_source\":{\"id\":\"6774\"},\"glyph\":{\"id\":\"6777\"},\"group\":null,\"hover_glyph\":null,\"muted_glyph\":{\"id\":\"6779\"},\"nonselection_glyph\":{\"id\":\"6778\"},\"selection_glyph\":{\"id\":\"6782\"},\"view\":{\"id\":\"6781\"}},\"id\":\"6780\",\"type\":\"GlyphRenderer\"},{\"attributes\":{},\"id\":\"6788\",\"type\":\"AllLabels\"},{\"attributes\":{\"fill_alpha\":{\"value\":0.1},\"fill_color\":{\"field\":\"Variable\",\"transform\":{\"id\":\"6773\"}},\"hatch_alpha\":{\"value\":0.1},\"hatch_color\":{\"field\":\"Variable\",\"transform\":{\"id\":\"6773\"}},\"line_alpha\":{\"value\":0.1},\"top\":{\"field\":\"value\"},\"width\":{\"value\":0.8},\"x\":{\"field\":\"xoffsets\"}},\"id\":\"6778\",\"type\":\"VBar\"},{\"attributes\":{},\"id\":\"6787\",\"type\":\"BasicTickFormatter\"},{\"attributes\":{\"tools\":[{\"id\":\"6743\"},{\"id\":\"6760\"},{\"id\":\"6761\"},{\"id\":\"6762\"},{\"id\":\"6763\"},{\"id\":\"6764\"}]},\"id\":\"6766\",\"type\":\"Toolbar\"},{\"attributes\":{\"margin\":[20,20,20,20],\"min_width\":250,\"options\":[\"Alamo Square\",\"Anza Vista\",\"Bayview\",\"Buena Vista Park\",\"Central Richmond\",\"Central Sunset\",\"Corona Heights\",\"Cow Hollow\",\"Croker Amazon\",\"Diamond Heights\",\"Downtown \",\"Eureka Valley/Dolores Heights\",\"Excelsior\",\"Financial District North\",\"Financial District South\",\"Forest Knolls\",\"Glen Park\",\"Golden Gate Heights\",\"Haight Ashbury\",\"Hayes Valley\",\"Hunters Point\",\"Ingleside \",\"Inner Mission\",\"Inner Parkside\",\"Inner Richmond\",\"Inner Sunset\",\"Jordan Park/Laurel Heights\",\"Lake --The Presidio\",\"Lone Mountain\",\"Lower Pacific Heights\",\"Marina\",\"Miraloma Park\",\"Mission Bay\",\"Mission Dolores\",\"Mission Terrace\",\"Nob Hill\",\"Noe Valley\",\"Oceanview\",\"Outer Parkside\",\"Outer Richmond \",\"Outer Sunset\",\"Pacific Heights\",\"Park North\",\"Parkside\",\"Parnassus/Ashbury Heights\",\"Portola\",\"Potrero Hill\",\"Presidio Heights\",\"Russian Hill\",\"South Beach\",\"South of Market\",\"Sunnyside\",\"Telegraph Hill\",\"Twin Peaks\",\"Union Square District\",\"Van Ness/ Civic Center\",\"West Portal\",\"Western Addition\",\"Yerba Buena\",\"Bernal Heights \",\"Clarendon Heights\",\"Duboce Triangle\",\"Ingleside Heights\",\"North Beach\",\"North Waterfront\",\"Outer Mission\",\"Westwood Highlands\",\"Merced Heights\",\"Midtown Terrace\",\"Visitacion Valley\",\"Silver Terrace\",\"Westwood Park\",\"Bayview Heights\"],\"title\":\"neighborhood\",\"value\":\"Alamo Square\",\"width\":250},\"id\":\"6819\",\"type\":\"panel.models.widgets.CustomSelect\"},{\"attributes\":{},\"id\":\"6760\",\"type\":\"SaveTool\"},{\"attributes\":{\"callback\":null,\"renderers\":[{\"id\":\"6780\"}],\"tags\":[\"hv_created\"],\"tooltips\":[[\"index\",\"@{index}\"],[\"Variable\",\"@{Variable}\"],[\"value\",\"@{value}\"]]},\"id\":\"6743\",\"type\":\"HoverTool\"},{\"attributes\":{},\"id\":\"6761\",\"type\":\"PanTool\"},{\"attributes\":{\"margin\":[5,5,5,5],\"name\":\"HSpacer13617\",\"sizing_mode\":\"stretch_width\"},\"id\":\"6815\",\"type\":\"Spacer\"},{\"attributes\":{\"children\":[{\"id\":\"6817\"},{\"id\":\"6818\"},{\"id\":\"6820\"}],\"margin\":[0,0,0,0],\"name\":\"Column13615\"},\"id\":\"6816\",\"type\":\"Column\"},{\"attributes\":{\"bottom\":{\"value\":0},\"fill_alpha\":{\"value\":1.0},\"fill_color\":{\"field\":\"Variable\",\"transform\":{\"id\":\"6773\"}},\"hatch_alpha\":{\"value\":1.0},\"hatch_color\":{\"field\":\"Variable\",\"transform\":{\"id\":\"6773\"}},\"hatch_scale\":{\"value\":12.0},\"hatch_weight\":{\"value\":1.0},\"line_alpha\":{\"value\":1.0},\"line_cap\":{\"value\":\"butt\"},\"line_color\":{\"value\":\"black\"},\"line_dash\":{\"value\":[]},\"line_dash_offset\":{\"value\":0},\"line_join\":{\"value\":\"bevel\"},\"line_width\":{\"value\":1},\"top\":{\"field\":\"value\"},\"width\":{\"value\":0.8},\"x\":{\"field\":\"xoffsets\"}},\"id\":\"6782\",\"type\":\"VBar\"},{\"attributes\":{},\"id\":\"6764\",\"type\":\"ResetTool\"},{\"attributes\":{\"data\":{\"Variable\":[\"year\",\"year\",\"year\",\"year\",\"year\",\"year\",\"year\",\"sale_price_sqr_foot\",\"sale_price_sqr_foot\",\"sale_price_sqr_foot\",\"sale_price_sqr_foot\",\"sale_price_sqr_foot\",\"sale_price_sqr_foot\",\"sale_price_sqr_foot\",\"gross_rent\",\"gross_rent\",\"gross_rent\",\"gross_rent\",\"gross_rent\",\"gross_rent\",\"gross_rent\"],\"index\":[\"0\",\"59\",\"118\",\"176\",\"233\",\"293\",\"351\",\"0\",\"59\",\"118\",\"176\",\"233\",\"293\",\"351\",\"0\",\"59\",\"118\",\"176\",\"233\",\"293\",\"351\"],\"value\":{\"__ndarray__\":\"AAAAAABon0AAAAAAAGyfQAAAAAAAcJ9AAAAAAAB0n0AAAAAAAHifQAAAAAAAfJ9AAAAAAACAn0ANRztY7TJyQJp+zNxvCHFAgpGzmi3jZkAoOiDQtDx4QBUyKcoYR35AjhXkUO3QgkBUIdyYtU91QAAAAAAAXJNAAAAAAADol0AAAAAAACiiQAAAAAAANqdAAAAAAACQq0AAAAAAADatQAAAAAAAJrFA\",\"dtype\":\"float64\",\"order\":\"little\",\"shape\":[21]},\"xoffsets\":[[\"0\",\"year\"],[\"59\",\"year\"],[\"118\",\"year\"],[\"176\",\"year\"],[\"233\",\"year\"],[\"293\",\"year\"],[\"351\",\"year\"],[\"0\",\"sale_price_sqr_foot\"],[\"59\",\"sale_price_sqr_foot\"],[\"118\",\"sale_price_sqr_foot\"],[\"176\",\"sale_price_sqr_foot\"],[\"233\",\"sale_price_sqr_foot\"],[\"293\",\"sale_price_sqr_foot\"],[\"351\",\"sale_price_sqr_foot\"],[\"0\",\"gross_rent\"],[\"59\",\"gross_rent\"],[\"118\",\"gross_rent\"],[\"176\",\"gross_rent\"],[\"233\",\"gross_rent\"],[\"293\",\"gross_rent\"],[\"351\",\"gross_rent\"]]},\"selected\":{\"id\":\"6775\"},\"selection_policy\":{\"id\":\"6802\"}},\"id\":\"6774\",\"type\":\"ColumnDataSource\"},{\"attributes\":{},\"id\":\"6762\",\"type\":\"WheelZoomTool\"},{\"attributes\":{\"below\":[{\"id\":\"6753\"}],\"center\":[{\"id\":\"6755\"},{\"id\":\"6759\"}],\"height\":300,\"left\":[{\"id\":\"6756\"}],\"margin\":[5,5,5,5],\"min_border_bottom\":10,\"min_border_left\":10,\"min_border_right\":10,\"min_border_top\":10,\"renderers\":[{\"id\":\"6780\"}],\"sizing_mode\":\"fixed\",\"title\":{\"id\":\"6745\"},\"toolbar\":{\"id\":\"6766\"},\"width\":700,\"x_range\":{\"id\":\"6741\"},\"x_scale\":{\"id\":\"6749\"},\"y_range\":{\"id\":\"6742\"},\"y_scale\":{\"id\":\"6751\"}},\"id\":\"6744\",\"subtype\":\"Figure\",\"type\":\"Plot\"},{\"attributes\":{\"margin\":[5,5,5,5],\"name\":\"VSpacer13613\",\"sizing_mode\":\"stretch_height\"},\"id\":\"6817\",\"type\":\"Spacer\"},{\"attributes\":{\"overlay\":{\"id\":\"6765\"}},\"id\":\"6763\",\"type\":\"BoxZoomTool\"},{\"attributes\":{},\"id\":\"6775\",\"type\":\"Selection\"}],\"root_ids\":[\"6739\",\"6851\"]},\"title\":\"Bokeh Application\",\"version\":\"2.4.2\"}};\n",
       "    var render_items = [{\"docid\":\"f7c75bb1-d8be-4c31-9eb2-a36a41c20790\",\"root_ids\":[\"6739\"],\"roots\":{\"6739\":\"735482cf-70d9-477c-b2c5-7ceffd967652\"}}];\n",
       "    root.Bokeh.embed.embed_items_notebook(docs_json, render_items);\n",
       "  }\n",
       "  if (root.Bokeh !== undefined && root.Bokeh.Panel !== undefined) {\n",
       "    embed_document(root);\n",
       "  } else {\n",
       "    var attempts = 0;\n",
       "    var timer = setInterval(function(root) {\n",
       "      if (root.Bokeh !== undefined && root.Bokeh.Panel !== undefined) {\n",
       "        clearInterval(timer);\n",
       "        embed_document(root);\n",
       "      } else if (document.readyState == \"complete\") {\n",
       "        attempts++;\n",
       "        if (attempts > 200) {\n",
       "          clearInterval(timer);\n",
       "          console.log(\"Bokeh: ERROR: Unable to run BokehJS code because BokehJS library is missing\");\n",
       "        }\n",
       "      }\n",
       "    }, 25, root)\n",
       "  }\n",
       "})(window);</script>"
      ],
      "text/plain": [
       ":DynamicMap   [neighborhood]\n",
       "   :Bars   [index,Variable]   (value)"
      ]
     },
     "execution_count": 143,
     "metadata": {
      "application/vnd.holoviews_exec.v0+json": {
       "id": "6739"
      }
     },
     "output_type": "execute_result"
    }
   ],
   "source": [
    "# Use hvplot to create an interactive line plot of the average price per square foot\n",
    "prices_by_year_by_neighborhood.hvplot.bar(groupby='neighborhood',rot=45)\n",
    "#prices_by_year_by_neighborhood.hvplot()"
   ]
  },
  {
   "cell_type": "markdown",
   "metadata": {},
   "source": [
    "### Step 6: Use the interactive visualization to answer the following question:"
   ]
  },
  {
   "cell_type": "markdown",
   "metadata": {},
   "source": [
    "**Question:** For the Anza Vista neighborhood, is the average sale price per square foot for 2016 more or less than the price that’s listed for 2012? \n",
    "\n",
    "**Answer: In 2012, the average sale price was 344.49 and in 2016 it was 88.40"
   ]
  },
  {
   "cell_type": "markdown",
   "metadata": {},
   "source": [
    "---"
   ]
  },
  {
   "cell_type": "markdown",
   "metadata": {},
   "source": [
    "## Build an Interactive Neighborhood Map\n",
    "\n",
    "For this part of the assignment, explore the geospatial relationships in the data by using interactive visualizations with hvPlot and GeoViews. To build your map, use the `sfo_data_df` DataFrame (created during the initial import), which includes the neighborhood location data with the average prices. To do all this, complete the following steps:\n",
    "\n",
    "1. Read the `neighborhood_coordinates.csv` file from the `Resources` folder into the notebook, and create a DataFrame named `neighborhood_locations_df`. Be sure to set the `index_col` of the DataFrame as “Neighborhood”.\n",
    "\n",
    "2. Using the original `sfo_data_df` Dataframe, create a DataFrame named `all_neighborhood_info_df` that groups the data by neighborhood. Aggregate the results by the `mean` of the group.\n",
    "\n",
    "3. Review the two code cells that concatenate the `neighborhood_locations_df` DataFrame with the `all_neighborhood_info_df` DataFrame. Note that the first cell uses the [Pandas concat function](https://pandas.pydata.org/pandas-docs/stable/reference/api/pandas.concat.html) to create a DataFrame named `all_neighborhoods_df`. The second cell cleans the data and sets the “Neighborhood” column. Be sure to run these cells to create the `all_neighborhoods_df` DataFrame, which you’ll need to create the geospatial visualization.\n",
    "\n",
    "4. Using hvPlot with GeoViews enabled, create a `points` plot for the `all_neighborhoods_df` DataFrame. Be sure to do the following:\n",
    "\n",
    "    * Set the `size` parameter to “sale_price_sqr_foot”.\n",
    "\n",
    "    * Set the `color` parameter to “gross_rent”.\n",
    "\n",
    "    * Set the `size_max` parameter to “25”.\n",
    "\n",
    "    * Set the `zoom` parameter to “11”.\n",
    "\n",
    "Note that your resulting plot should appear similar to the following image:\n",
    "\n",
    "![A screenshot depicts an example of a scatter plot created with hvPlot and GeoViews.](Images/6-4-geoviews-plot.png)\n",
    "\n",
    "5. Use the interactive map to answer the following question:\n",
    "\n",
    "    * Which neighborhood has the highest gross rent, and which has the highest sale price per square foot?\n"
   ]
  },
  {
   "cell_type": "markdown",
   "metadata": {},
   "source": [
    "### Step 1: Read the `neighborhood_coordinates.csv` file from the `Resources` folder into the notebook, and create a DataFrame named `neighborhood_locations_df`. Be sure to set the `index_col` of the DataFrame as “Neighborhood”."
   ]
  },
  {
   "cell_type": "code",
   "execution_count": null,
   "metadata": {},
   "outputs": [
    {
     "data": {
      "text/html": [
       "<div>\n",
       "<style scoped>\n",
       "    .dataframe tbody tr th:only-of-type {\n",
       "        vertical-align: middle;\n",
       "    }\n",
       "\n",
       "    .dataframe tbody tr th {\n",
       "        vertical-align: top;\n",
       "    }\n",
       "\n",
       "    .dataframe thead th {\n",
       "        text-align: right;\n",
       "    }\n",
       "</style>\n",
       "<table border=\"1\" class=\"dataframe\">\n",
       "  <thead>\n",
       "    <tr style=\"text-align: right;\">\n",
       "      <th></th>\n",
       "      <th>Neighborhood</th>\n",
       "      <th>Lat</th>\n",
       "      <th>Lon</th>\n",
       "    </tr>\n",
       "  </thead>\n",
       "  <tbody>\n",
       "    <tr>\n",
       "      <th>0</th>\n",
       "      <td>Alamo Square</td>\n",
       "      <td>37.791012</td>\n",
       "      <td>-122.402100</td>\n",
       "    </tr>\n",
       "    <tr>\n",
       "      <th>1</th>\n",
       "      <td>Anza Vista</td>\n",
       "      <td>37.779598</td>\n",
       "      <td>-122.443451</td>\n",
       "    </tr>\n",
       "    <tr>\n",
       "      <th>2</th>\n",
       "      <td>Bayview</td>\n",
       "      <td>37.734670</td>\n",
       "      <td>-122.401060</td>\n",
       "    </tr>\n",
       "    <tr>\n",
       "      <th>3</th>\n",
       "      <td>Bayview Heights</td>\n",
       "      <td>37.728740</td>\n",
       "      <td>-122.410980</td>\n",
       "    </tr>\n",
       "    <tr>\n",
       "      <th>4</th>\n",
       "      <td>Bernal Heights</td>\n",
       "      <td>37.728630</td>\n",
       "      <td>-122.443050</td>\n",
       "    </tr>\n",
       "  </tbody>\n",
       "</table>\n",
       "</div>"
      ],
      "text/plain": [
       "      Neighborhood        Lat         Lon\n",
       "0     Alamo Square  37.791012 -122.402100\n",
       "1       Anza Vista  37.779598 -122.443451\n",
       "2          Bayview  37.734670 -122.401060\n",
       "3  Bayview Heights  37.728740 -122.410980\n",
       "4   Bernal Heights  37.728630 -122.443050"
      ]
     },
     "metadata": {},
     "output_type": "display_data"
    },
    {
     "data": {
      "text/html": [
       "<div>\n",
       "<style scoped>\n",
       "    .dataframe tbody tr th:only-of-type {\n",
       "        vertical-align: middle;\n",
       "    }\n",
       "\n",
       "    .dataframe tbody tr th {\n",
       "        vertical-align: top;\n",
       "    }\n",
       "\n",
       "    .dataframe thead th {\n",
       "        text-align: right;\n",
       "    }\n",
       "</style>\n",
       "<table border=\"1\" class=\"dataframe\">\n",
       "  <thead>\n",
       "    <tr style=\"text-align: right;\">\n",
       "      <th></th>\n",
       "      <th>Neighborhood</th>\n",
       "      <th>Lat</th>\n",
       "      <th>Lon</th>\n",
       "    </tr>\n",
       "  </thead>\n",
       "  <tbody>\n",
       "    <tr>\n",
       "      <th>68</th>\n",
       "      <td>West Portal</td>\n",
       "      <td>37.74026</td>\n",
       "      <td>-122.463880</td>\n",
       "    </tr>\n",
       "    <tr>\n",
       "      <th>69</th>\n",
       "      <td>Western Addition</td>\n",
       "      <td>37.79298</td>\n",
       "      <td>-122.435790</td>\n",
       "    </tr>\n",
       "    <tr>\n",
       "      <th>70</th>\n",
       "      <td>Westwood Highlands</td>\n",
       "      <td>37.73470</td>\n",
       "      <td>-122.456854</td>\n",
       "    </tr>\n",
       "    <tr>\n",
       "      <th>71</th>\n",
       "      <td>Westwood Park</td>\n",
       "      <td>37.73415</td>\n",
       "      <td>-122.457000</td>\n",
       "    </tr>\n",
       "    <tr>\n",
       "      <th>72</th>\n",
       "      <td>Yerba Buena</td>\n",
       "      <td>37.79298</td>\n",
       "      <td>-122.396360</td>\n",
       "    </tr>\n",
       "  </tbody>\n",
       "</table>\n",
       "</div>"
      ],
      "text/plain": [
       "          Neighborhood       Lat         Lon\n",
       "68         West Portal  37.74026 -122.463880\n",
       "69    Western Addition  37.79298 -122.435790\n",
       "70  Westwood Highlands  37.73470 -122.456854\n",
       "71       Westwood Park  37.73415 -122.457000\n",
       "72         Yerba Buena  37.79298 -122.396360"
      ]
     },
     "metadata": {},
     "output_type": "display_data"
    }
   ],
   "source": [
    "# Load neighborhoods coordinates data\n",
    "#neighborhood_locations_df = \n",
    "neighborhood_locations_df =  pd.read_csv(\n",
    "    Path(\"neighborhoods_coordinates.csv\")\n",
    ")\n",
    "# Review the first and last five rows of the DataFrame\n",
    "display(neighborhood_locations_df.head())\n",
    "display(neighborhood_locations_df.tail())"
   ]
  },
  {
   "cell_type": "markdown",
   "metadata": {},
   "source": [
    "### Step 2: Using the original `sfo_data_df` Dataframe, create a DataFrame named `all_neighborhood_info_df` that groups the data by neighborhood. Aggregate the results by the `mean` of the group."
   ]
  },
  {
   "cell_type": "code",
   "execution_count": null,
   "metadata": {},
   "outputs": [
    {
     "data": {
      "text/html": [
       "<div>\n",
       "<style scoped>\n",
       "    .dataframe tbody tr th:only-of-type {\n",
       "        vertical-align: middle;\n",
       "    }\n",
       "\n",
       "    .dataframe tbody tr th {\n",
       "        vertical-align: top;\n",
       "    }\n",
       "\n",
       "    .dataframe thead th {\n",
       "        text-align: right;\n",
       "    }\n",
       "</style>\n",
       "<table border=\"1\" class=\"dataframe\">\n",
       "  <thead>\n",
       "    <tr style=\"text-align: right;\">\n",
       "      <th></th>\n",
       "      <th></th>\n",
       "      <th>sale_price_sqr_foot</th>\n",
       "      <th>housing_units</th>\n",
       "      <th>gross_rent</th>\n",
       "    </tr>\n",
       "    <tr>\n",
       "      <th>year</th>\n",
       "      <th>neighborhood</th>\n",
       "      <th></th>\n",
       "      <th></th>\n",
       "      <th></th>\n",
       "    </tr>\n",
       "  </thead>\n",
       "  <tbody>\n",
       "    <tr>\n",
       "      <th rowspan=\"5\" valign=\"top\">2010</th>\n",
       "      <th>Alamo Square</th>\n",
       "      <td>291.182945</td>\n",
       "      <td>372560.0</td>\n",
       "      <td>1239.0</td>\n",
       "    </tr>\n",
       "    <tr>\n",
       "      <th>Anza Vista</th>\n",
       "      <td>267.932583</td>\n",
       "      <td>372560.0</td>\n",
       "      <td>1239.0</td>\n",
       "    </tr>\n",
       "    <tr>\n",
       "      <th>Bayview</th>\n",
       "      <td>170.098665</td>\n",
       "      <td>372560.0</td>\n",
       "      <td>1239.0</td>\n",
       "    </tr>\n",
       "    <tr>\n",
       "      <th>Buena Vista Park</th>\n",
       "      <td>347.394919</td>\n",
       "      <td>372560.0</td>\n",
       "      <td>1239.0</td>\n",
       "    </tr>\n",
       "    <tr>\n",
       "      <th>Central Richmond</th>\n",
       "      <td>319.027623</td>\n",
       "      <td>372560.0</td>\n",
       "      <td>1239.0</td>\n",
       "    </tr>\n",
       "    <tr>\n",
       "      <th>...</th>\n",
       "      <th>...</th>\n",
       "      <td>...</td>\n",
       "      <td>...</td>\n",
       "      <td>...</td>\n",
       "    </tr>\n",
       "    <tr>\n",
       "      <th rowspan=\"5\" valign=\"top\">2016</th>\n",
       "      <th>Telegraph Hill</th>\n",
       "      <td>903.049771</td>\n",
       "      <td>384242.0</td>\n",
       "      <td>4390.0</td>\n",
       "    </tr>\n",
       "    <tr>\n",
       "      <th>Twin Peaks</th>\n",
       "      <td>970.085470</td>\n",
       "      <td>384242.0</td>\n",
       "      <td>4390.0</td>\n",
       "    </tr>\n",
       "    <tr>\n",
       "      <th>Van Ness/ Civic Center</th>\n",
       "      <td>552.602567</td>\n",
       "      <td>384242.0</td>\n",
       "      <td>4390.0</td>\n",
       "    </tr>\n",
       "    <tr>\n",
       "      <th>Visitacion Valley</th>\n",
       "      <td>328.319007</td>\n",
       "      <td>384242.0</td>\n",
       "      <td>4390.0</td>\n",
       "    </tr>\n",
       "    <tr>\n",
       "      <th>Westwood Park</th>\n",
       "      <td>631.195426</td>\n",
       "      <td>384242.0</td>\n",
       "      <td>4390.0</td>\n",
       "    </tr>\n",
       "  </tbody>\n",
       "</table>\n",
       "<p>397 rows × 3 columns</p>\n",
       "</div>"
      ],
      "text/plain": [
       "                             sale_price_sqr_foot  housing_units  gross_rent\n",
       "year neighborhood                                                          \n",
       "2010 Alamo Square                     291.182945       372560.0      1239.0\n",
       "     Anza Vista                       267.932583       372560.0      1239.0\n",
       "     Bayview                          170.098665       372560.0      1239.0\n",
       "     Buena Vista Park                 347.394919       372560.0      1239.0\n",
       "     Central Richmond                 319.027623       372560.0      1239.0\n",
       "...                                          ...            ...         ...\n",
       "2016 Telegraph Hill                   903.049771       384242.0      4390.0\n",
       "     Twin Peaks                       970.085470       384242.0      4390.0\n",
       "     Van Ness/ Civic Center           552.602567       384242.0      4390.0\n",
       "     Visitacion Valley                328.319007       384242.0      4390.0\n",
       "     Westwood Park                    631.195426       384242.0      4390.0\n",
       "\n",
       "[397 rows x 3 columns]"
      ]
     },
     "metadata": {},
     "output_type": "display_data"
    }
   ],
   "source": [
    "# Calculate the mean values for each neighborhood\n",
    "all_neighborhood_info_df = sfo_data_df.groupby([\"year\",\"neighborhood\"]).mean()\n",
    "# Review the resulting DataFrame\n",
    "display(all_neighborhood_info_df)"
   ]
  },
  {
   "cell_type": "markdown",
   "metadata": {},
   "source": [
    "### Step 3: Review the two code cells that concatenate the `neighborhood_locations_df` DataFrame with the `all_neighborhood_info_df` DataFrame. \n",
    "\n",
    "Note that the first cell uses the [Pandas concat function](https://pandas.pydata.org/pandas-docs/stable/reference/api/pandas.concat.html) to create a DataFrame named `all_neighborhoods_df`. \n",
    "\n",
    "The second cell cleans the data and sets the “Neighborhood” column. \n",
    "\n",
    "Be sure to run these cells to create the `all_neighborhoods_df` DataFrame, which you’ll need to create the geospatial visualization."
   ]
  },
  {
   "cell_type": "code",
   "execution_count": null,
   "metadata": {},
   "outputs": [
    {
     "data": {
      "text/html": [
       "<div>\n",
       "<style scoped>\n",
       "    .dataframe tbody tr th:only-of-type {\n",
       "        vertical-align: middle;\n",
       "    }\n",
       "\n",
       "    .dataframe tbody tr th {\n",
       "        vertical-align: top;\n",
       "    }\n",
       "\n",
       "    .dataframe thead th {\n",
       "        text-align: right;\n",
       "    }\n",
       "</style>\n",
       "<table border=\"1\" class=\"dataframe\">\n",
       "  <thead>\n",
       "    <tr style=\"text-align: right;\">\n",
       "      <th></th>\n",
       "      <th>Neighborhood</th>\n",
       "      <th>Lat</th>\n",
       "      <th>Lon</th>\n",
       "      <th>sale_price_sqr_foot</th>\n",
       "      <th>housing_units</th>\n",
       "      <th>gross_rent</th>\n",
       "    </tr>\n",
       "  </thead>\n",
       "  <tbody>\n",
       "    <tr>\n",
       "      <th>0</th>\n",
       "      <td>Alamo Square</td>\n",
       "      <td>37.791012</td>\n",
       "      <td>-122.402100</td>\n",
       "      <td>NaN</td>\n",
       "      <td>NaN</td>\n",
       "      <td>NaN</td>\n",
       "    </tr>\n",
       "    <tr>\n",
       "      <th>1</th>\n",
       "      <td>Anza Vista</td>\n",
       "      <td>37.779598</td>\n",
       "      <td>-122.443451</td>\n",
       "      <td>NaN</td>\n",
       "      <td>NaN</td>\n",
       "      <td>NaN</td>\n",
       "    </tr>\n",
       "    <tr>\n",
       "      <th>2</th>\n",
       "      <td>Bayview</td>\n",
       "      <td>37.734670</td>\n",
       "      <td>-122.401060</td>\n",
       "      <td>NaN</td>\n",
       "      <td>NaN</td>\n",
       "      <td>NaN</td>\n",
       "    </tr>\n",
       "    <tr>\n",
       "      <th>3</th>\n",
       "      <td>Bayview Heights</td>\n",
       "      <td>37.728740</td>\n",
       "      <td>-122.410980</td>\n",
       "      <td>NaN</td>\n",
       "      <td>NaN</td>\n",
       "      <td>NaN</td>\n",
       "    </tr>\n",
       "    <tr>\n",
       "      <th>4</th>\n",
       "      <td>Bernal Heights</td>\n",
       "      <td>37.728630</td>\n",
       "      <td>-122.443050</td>\n",
       "      <td>NaN</td>\n",
       "      <td>NaN</td>\n",
       "      <td>NaN</td>\n",
       "    </tr>\n",
       "  </tbody>\n",
       "</table>\n",
       "</div>"
      ],
      "text/plain": [
       "      Neighborhood        Lat         Lon  sale_price_sqr_foot  housing_units  \\\n",
       "0     Alamo Square  37.791012 -122.402100                  NaN            NaN   \n",
       "1       Anza Vista  37.779598 -122.443451                  NaN            NaN   \n",
       "2          Bayview  37.734670 -122.401060                  NaN            NaN   \n",
       "3  Bayview Heights  37.728740 -122.410980                  NaN            NaN   \n",
       "4   Bernal Heights  37.728630 -122.443050                  NaN            NaN   \n",
       "\n",
       "   gross_rent  \n",
       "0         NaN  \n",
       "1         NaN  \n",
       "2         NaN  \n",
       "3         NaN  \n",
       "4         NaN  "
      ]
     },
     "metadata": {},
     "output_type": "display_data"
    },
    {
     "data": {
      "text/html": [
       "<div>\n",
       "<style scoped>\n",
       "    .dataframe tbody tr th:only-of-type {\n",
       "        vertical-align: middle;\n",
       "    }\n",
       "\n",
       "    .dataframe tbody tr th {\n",
       "        vertical-align: top;\n",
       "    }\n",
       "\n",
       "    .dataframe thead th {\n",
       "        text-align: right;\n",
       "    }\n",
       "</style>\n",
       "<table border=\"1\" class=\"dataframe\">\n",
       "  <thead>\n",
       "    <tr style=\"text-align: right;\">\n",
       "      <th></th>\n",
       "      <th>Neighborhood</th>\n",
       "      <th>Lat</th>\n",
       "      <th>Lon</th>\n",
       "      <th>sale_price_sqr_foot</th>\n",
       "      <th>housing_units</th>\n",
       "      <th>gross_rent</th>\n",
       "    </tr>\n",
       "  </thead>\n",
       "  <tbody>\n",
       "    <tr>\n",
       "      <th>(2016, Telegraph Hill)</th>\n",
       "      <td>NaN</td>\n",
       "      <td>NaN</td>\n",
       "      <td>NaN</td>\n",
       "      <td>903.049771</td>\n",
       "      <td>384242.0</td>\n",
       "      <td>4390.0</td>\n",
       "    </tr>\n",
       "    <tr>\n",
       "      <th>(2016, Twin Peaks)</th>\n",
       "      <td>NaN</td>\n",
       "      <td>NaN</td>\n",
       "      <td>NaN</td>\n",
       "      <td>970.085470</td>\n",
       "      <td>384242.0</td>\n",
       "      <td>4390.0</td>\n",
       "    </tr>\n",
       "    <tr>\n",
       "      <th>(2016, Van Ness/ Civic Center)</th>\n",
       "      <td>NaN</td>\n",
       "      <td>NaN</td>\n",
       "      <td>NaN</td>\n",
       "      <td>552.602567</td>\n",
       "      <td>384242.0</td>\n",
       "      <td>4390.0</td>\n",
       "    </tr>\n",
       "    <tr>\n",
       "      <th>(2016, Visitacion Valley)</th>\n",
       "      <td>NaN</td>\n",
       "      <td>NaN</td>\n",
       "      <td>NaN</td>\n",
       "      <td>328.319007</td>\n",
       "      <td>384242.0</td>\n",
       "      <td>4390.0</td>\n",
       "    </tr>\n",
       "    <tr>\n",
       "      <th>(2016, Westwood Park)</th>\n",
       "      <td>NaN</td>\n",
       "      <td>NaN</td>\n",
       "      <td>NaN</td>\n",
       "      <td>631.195426</td>\n",
       "      <td>384242.0</td>\n",
       "      <td>4390.0</td>\n",
       "    </tr>\n",
       "  </tbody>\n",
       "</table>\n",
       "</div>"
      ],
      "text/plain": [
       "                               Neighborhood  Lat  Lon  sale_price_sqr_foot  \\\n",
       "(2016, Telegraph Hill)                  NaN  NaN  NaN           903.049771   \n",
       "(2016, Twin Peaks)                      NaN  NaN  NaN           970.085470   \n",
       "(2016, Van Ness/ Civic Center)          NaN  NaN  NaN           552.602567   \n",
       "(2016, Visitacion Valley)               NaN  NaN  NaN           328.319007   \n",
       "(2016, Westwood Park)                   NaN  NaN  NaN           631.195426   \n",
       "\n",
       "                                housing_units  gross_rent  \n",
       "(2016, Telegraph Hill)               384242.0      4390.0  \n",
       "(2016, Twin Peaks)                   384242.0      4390.0  \n",
       "(2016, Van Ness/ Civic Center)       384242.0      4390.0  \n",
       "(2016, Visitacion Valley)            384242.0      4390.0  \n",
       "(2016, Westwood Park)                384242.0      4390.0  "
      ]
     },
     "metadata": {},
     "output_type": "display_data"
    }
   ],
   "source": [
    "# Using the Pandas `concat` function, join the \n",
    "# neighborhood_locations_df and the all_neighborhood_info_df DataFrame\n",
    "# The axis of the concatenation is \"neighborhood\".\n",
    "\n",
    "# The concat function will automatially combine columns with\n",
    "# identical information, while keeping the additional columns.\n",
    "all_neighborhoods_df = pd.concat(\n",
    "    [neighborhood_locations_df, all_neighborhood_info_df], \n",
    "    axis=\"columns\",\n",
    "    sort=False\n",
    ")\n",
    "\n",
    "# Review the resulting DataFrame\n",
    "display(all_neighborhoods_df.head())\n",
    "display(all_neighborhoods_df.tail())\n"
   ]
  },
  {
   "cell_type": "code",
   "execution_count": null,
   "metadata": {},
   "outputs": [
    {
     "data": {
      "text/html": [
       "<div>\n",
       "<style scoped>\n",
       "    .dataframe tbody tr th:only-of-type {\n",
       "        vertical-align: middle;\n",
       "    }\n",
       "\n",
       "    .dataframe tbody tr th {\n",
       "        vertical-align: top;\n",
       "    }\n",
       "\n",
       "    .dataframe thead th {\n",
       "        text-align: right;\n",
       "    }\n",
       "</style>\n",
       "<table border=\"1\" class=\"dataframe\">\n",
       "  <thead>\n",
       "    <tr style=\"text-align: right;\">\n",
       "      <th></th>\n",
       "      <th>Neighborhood</th>\n",
       "      <th>Neighborhood</th>\n",
       "      <th>Neighborhood</th>\n",
       "      <th>Lat</th>\n",
       "      <th>Lon</th>\n",
       "      <th>sale_price_sqr_foot</th>\n",
       "      <th>housing_units</th>\n",
       "      <th>gross_rent</th>\n",
       "    </tr>\n",
       "  </thead>\n",
       "  <tbody>\n",
       "  </tbody>\n",
       "</table>\n",
       "</div>"
      ],
      "text/plain": [
       "Empty DataFrame\n",
       "Columns: [Neighborhood, Neighborhood, Neighborhood, Lat, Lon, sale_price_sqr_foot, housing_units, gross_rent]\n",
       "Index: []"
      ]
     },
     "metadata": {},
     "output_type": "display_data"
    },
    {
     "data": {
      "text/html": [
       "<div>\n",
       "<style scoped>\n",
       "    .dataframe tbody tr th:only-of-type {\n",
       "        vertical-align: middle;\n",
       "    }\n",
       "\n",
       "    .dataframe tbody tr th {\n",
       "        vertical-align: top;\n",
       "    }\n",
       "\n",
       "    .dataframe thead th {\n",
       "        text-align: right;\n",
       "    }\n",
       "</style>\n",
       "<table border=\"1\" class=\"dataframe\">\n",
       "  <thead>\n",
       "    <tr style=\"text-align: right;\">\n",
       "      <th></th>\n",
       "      <th>Neighborhood</th>\n",
       "      <th>Neighborhood</th>\n",
       "      <th>Neighborhood</th>\n",
       "      <th>Lat</th>\n",
       "      <th>Lon</th>\n",
       "      <th>sale_price_sqr_foot</th>\n",
       "      <th>housing_units</th>\n",
       "      <th>gross_rent</th>\n",
       "    </tr>\n",
       "  </thead>\n",
       "  <tbody>\n",
       "  </tbody>\n",
       "</table>\n",
       "</div>"
      ],
      "text/plain": [
       "Empty DataFrame\n",
       "Columns: [Neighborhood, Neighborhood, Neighborhood, Lat, Lon, sale_price_sqr_foot, housing_units, gross_rent]\n",
       "Index: []"
      ]
     },
     "metadata": {},
     "output_type": "display_data"
    }
   ],
   "source": [
    "# Call the dropna function to remove any neighborhoods that do not have data\n",
    "all_neighborhoods_df = all_neighborhoods_df.reset_index().dropna()\n",
    "\n",
    "# Rename the \"index\" column as \"Neighborhood\" for use in the Visualization\n",
    "all_neighborhoods_df = all_neighborhoods_df.rename(columns={\"index\": \"Neighborhood\"})\n",
    "\n",
    "# Review the resulting DataFrame\n",
    "display(all_neighborhoods_df.head())\n",
    "display(all_neighborhoods_df.tail())"
   ]
  },
  {
   "cell_type": "markdown",
   "metadata": {},
   "source": [
    "### Step 4: Using hvPlot with GeoViews enabled, create a `points` plot for the `all_neighborhoods_df` DataFrame. Be sure to do the following:\n",
    "\n",
    "* Set the `geo` parameter to True.\n",
    "* Set the `size` parameter to “sale_price_sqr_foot”.\n",
    "* Set the `color` parameter to “gross_rent”.\n",
    "* Set the `frame_width` parameter to 700.\n",
    "* Set the `frame_height` parameter to 500.\n",
    "* Include a descriptive title."
   ]
  },
  {
   "cell_type": "code",
   "execution_count": 182,
   "metadata": {},
   "outputs": [
    {
     "ename": "DataError",
     "evalue": "Dimensions may not reference duplicated DataFrame columns (found duplicate 'Neighborhood' columns). If you want to plot a column against itself simply declare two dimensions with the same name. \n\nPandasInterface expects tabular data, for more information on supported datatypes see http://holoviews.org/user_guide/Tabular_Datasets.html",
     "output_type": "error",
     "traceback": [
      "\u001b[1;31m---------------------------------------------------------------------------\u001b[0m",
      "\u001b[1;31mDataError\u001b[0m                                 Traceback (most recent call last)",
      "\u001b[1;32m~\\anaconda3\\envs\\dev\\lib\\site-packages\\hvplot\\converter.py\u001b[0m in \u001b[0;36m__call__\u001b[1;34m(self, kind, x, y)\u001b[0m\n\u001b[0;32m   1132\u001b[0m                     \u001b[1;32mtry\u001b[0m\u001b[1;33m:\u001b[0m\u001b[1;33m\u001b[0m\u001b[1;33m\u001b[0m\u001b[0m\n\u001b[1;32m-> 1133\u001b[1;33m                         \u001b[0mdataset\u001b[0m \u001b[1;33m=\u001b[0m \u001b[0mDataset\u001b[0m\u001b[1;33m(\u001b[0m\u001b[0mdata\u001b[0m\u001b[1;33m,\u001b[0m \u001b[0mself\u001b[0m\u001b[1;33m.\u001b[0m\u001b[0mindexes\u001b[0m\u001b[1;33m)\u001b[0m\u001b[1;33m\u001b[0m\u001b[1;33m\u001b[0m\u001b[0m\n\u001b[0m\u001b[0;32m   1134\u001b[0m                     \u001b[1;32mexcept\u001b[0m \u001b[0mException\u001b[0m\u001b[1;33m:\u001b[0m\u001b[1;33m\u001b[0m\u001b[1;33m\u001b[0m\u001b[0m\n",
      "\u001b[1;32m~\\anaconda3\\envs\\dev\\lib\\site-packages\\holoviews\\core\\data\\__init__.py\u001b[0m in \u001b[0;36m__init__\u001b[1;34m(self, data, kdims, vdims, **kwargs)\u001b[0m\n\u001b[0;32m    341\u001b[0m         initialized = Interface.initialize(type(self), data, kdims, vdims,\n\u001b[1;32m--> 342\u001b[1;33m                                            datatype=kwargs.get('datatype'))\n\u001b[0m\u001b[0;32m    343\u001b[0m         \u001b[1;33m(\u001b[0m\u001b[0mdata\u001b[0m\u001b[1;33m,\u001b[0m \u001b[0mself\u001b[0m\u001b[1;33m.\u001b[0m\u001b[0minterface\u001b[0m\u001b[1;33m,\u001b[0m \u001b[0mdims\u001b[0m\u001b[1;33m,\u001b[0m \u001b[0mextra_kws\u001b[0m\u001b[1;33m)\u001b[0m \u001b[1;33m=\u001b[0m \u001b[0minitialized\u001b[0m\u001b[1;33m\u001b[0m\u001b[1;33m\u001b[0m\u001b[0m\n",
      "\u001b[1;32m~\\anaconda3\\envs\\dev\\lib\\site-packages\\holoviews\\core\\data\\interface.py\u001b[0m in \u001b[0;36minitialize\u001b[1;34m(cls, eltype, data, kdims, vdims, datatype)\u001b[0m\n\u001b[0;32m    255\u001b[0m             \u001b[1;32mtry\u001b[0m\u001b[1;33m:\u001b[0m\u001b[1;33m\u001b[0m\u001b[1;33m\u001b[0m\u001b[0m\n\u001b[1;32m--> 256\u001b[1;33m                 \u001b[1;33m(\u001b[0m\u001b[0mdata\u001b[0m\u001b[1;33m,\u001b[0m \u001b[0mdims\u001b[0m\u001b[1;33m,\u001b[0m \u001b[0mextra_kws\u001b[0m\u001b[1;33m)\u001b[0m \u001b[1;33m=\u001b[0m \u001b[0minterface\u001b[0m\u001b[1;33m.\u001b[0m\u001b[0minit\u001b[0m\u001b[1;33m(\u001b[0m\u001b[0meltype\u001b[0m\u001b[1;33m,\u001b[0m \u001b[0mdata\u001b[0m\u001b[1;33m,\u001b[0m \u001b[0mkdims\u001b[0m\u001b[1;33m,\u001b[0m \u001b[0mvdims\u001b[0m\u001b[1;33m)\u001b[0m\u001b[1;33m\u001b[0m\u001b[1;33m\u001b[0m\u001b[0m\n\u001b[0m\u001b[0;32m    257\u001b[0m                 \u001b[1;32mbreak\u001b[0m\u001b[1;33m\u001b[0m\u001b[1;33m\u001b[0m\u001b[0m\n",
      "\u001b[1;32m~\\anaconda3\\envs\\dev\\lib\\site-packages\\holoviews\\core\\data\\pandas.py\u001b[0m in \u001b[0;36minit\u001b[1;34m(cls, eltype, data, kdims, vdims)\u001b[0m\n\u001b[0;32m     88\u001b[0m                                     \u001b[1;34m'a column against itself simply declare two dimensions '\u001b[0m\u001b[1;33m\u001b[0m\u001b[1;33m\u001b[0m\u001b[0m\n\u001b[1;32m---> 89\u001b[1;33m                                     'with the same name. '% d, cls)\n\u001b[0m\u001b[0;32m     90\u001b[0m         \u001b[1;32melse\u001b[0m\u001b[1;33m:\u001b[0m\u001b[1;33m\u001b[0m\u001b[1;33m\u001b[0m\u001b[0m\n",
      "\u001b[1;31mDataError\u001b[0m: Dimensions may not reference duplicated DataFrame columns (found duplicate 'Neighborhood' columns). If you want to plot a column against itself simply declare two dimensions with the same name. \n\nPandasInterface expects tabular data, for more information on supported datatypes see http://holoviews.org/user_guide/Tabular_Datasets.html",
      "\nDuring handling of the above exception, another exception occurred:\n",
      "\u001b[1;31mDataError\u001b[0m                                 Traceback (most recent call last)",
      "\u001b[1;32m~\\AppData\\Local\\Temp\\ipykernel_17752\\512319222.py\u001b[0m in \u001b[0;36m<module>\u001b[1;34m\u001b[0m\n\u001b[0;32m     10\u001b[0m     \u001b[0mframe_height\u001b[0m\u001b[1;33m=\u001b[0m\u001b[1;36m500\u001b[0m\u001b[1;33m,\u001b[0m\u001b[1;33m\u001b[0m\u001b[1;33m\u001b[0m\u001b[0m\n\u001b[0;32m     11\u001b[0m     \u001b[0mhover_cols\u001b[0m\u001b[1;33m=\u001b[0m\u001b[1;34m'Neighborhood'\u001b[0m\u001b[1;33m,\u001b[0m\u001b[1;33m\u001b[0m\u001b[1;33m\u001b[0m\u001b[0m\n\u001b[1;32m---> 12\u001b[1;33m     title='Average Sales Price and Gross Rent in San Fransisco')\n\u001b[0m\u001b[0;32m     13\u001b[0m \u001b[1;33m\u001b[0m\u001b[0m\n",
      "\u001b[1;32m~\\anaconda3\\envs\\dev\\lib\\site-packages\\hvplot\\plotting\\core.py\u001b[0m in \u001b[0;36mpoints\u001b[1;34m(self, x, y, **kwds)\u001b[0m\n\u001b[0;32m    517\u001b[0m             \u001b[0mThe\u001b[0m \u001b[0mHoloViews\u001b[0m \u001b[0mrepresentation\u001b[0m \u001b[0mof\u001b[0m \u001b[0mthe\u001b[0m \u001b[0mplot\u001b[0m\u001b[1;33m.\u001b[0m\u001b[1;33m\u001b[0m\u001b[1;33m\u001b[0m\u001b[0m\n\u001b[0;32m    518\u001b[0m         \"\"\"\n\u001b[1;32m--> 519\u001b[1;33m         \u001b[1;32mreturn\u001b[0m \u001b[0mself\u001b[0m\u001b[1;33m(\u001b[0m\u001b[0mx\u001b[0m\u001b[1;33m,\u001b[0m \u001b[0my\u001b[0m\u001b[1;33m,\u001b[0m \u001b[0mkind\u001b[0m\u001b[1;33m=\u001b[0m\u001b[1;34m'points'\u001b[0m\u001b[1;33m,\u001b[0m \u001b[1;33m**\u001b[0m\u001b[0mkwds\u001b[0m\u001b[1;33m)\u001b[0m\u001b[1;33m\u001b[0m\u001b[1;33m\u001b[0m\u001b[0m\n\u001b[0m\u001b[0;32m    520\u001b[0m \u001b[1;33m\u001b[0m\u001b[0m\n\u001b[0;32m    521\u001b[0m     \u001b[1;32mdef\u001b[0m \u001b[0mvectorfield\u001b[0m\u001b[1;33m(\u001b[0m\u001b[0mself\u001b[0m\u001b[1;33m,\u001b[0m \u001b[0mx\u001b[0m\u001b[1;33m=\u001b[0m\u001b[1;32mNone\u001b[0m\u001b[1;33m,\u001b[0m \u001b[0my\u001b[0m\u001b[1;33m=\u001b[0m\u001b[1;32mNone\u001b[0m\u001b[1;33m,\u001b[0m \u001b[0mangle\u001b[0m\u001b[1;33m=\u001b[0m\u001b[1;32mNone\u001b[0m\u001b[1;33m,\u001b[0m \u001b[0mmag\u001b[0m\u001b[1;33m=\u001b[0m\u001b[1;32mNone\u001b[0m\u001b[1;33m,\u001b[0m \u001b[1;33m**\u001b[0m\u001b[0mkwds\u001b[0m\u001b[1;33m)\u001b[0m\u001b[1;33m:\u001b[0m\u001b[1;33m\u001b[0m\u001b[1;33m\u001b[0m\u001b[0m\n",
      "\u001b[1;32m~\\anaconda3\\envs\\dev\\lib\\site-packages\\hvplot\\plotting\\core.py\u001b[0m in \u001b[0;36m__call__\u001b[1;34m(self, x, y, kind, **kwds)\u001b[0m\n\u001b[0;32m     77\u001b[0m                 \u001b[1;32mreturn\u001b[0m \u001b[0mpn\u001b[0m\u001b[1;33m.\u001b[0m\u001b[0mpanel\u001b[0m\u001b[1;33m(\u001b[0m\u001b[0mplot\u001b[0m\u001b[1;33m,\u001b[0m \u001b[1;33m**\u001b[0m\u001b[0mpanel_dict\u001b[0m\u001b[1;33m)\u001b[0m\u001b[1;33m\u001b[0m\u001b[1;33m\u001b[0m\u001b[0m\n\u001b[0;32m     78\u001b[0m \u001b[1;33m\u001b[0m\u001b[0m\n\u001b[1;32m---> 79\u001b[1;33m         \u001b[1;32mreturn\u001b[0m \u001b[0mself\u001b[0m\u001b[1;33m.\u001b[0m\u001b[0m_get_converter\u001b[0m\u001b[1;33m(\u001b[0m\u001b[0mx\u001b[0m\u001b[1;33m,\u001b[0m \u001b[0my\u001b[0m\u001b[1;33m,\u001b[0m \u001b[0mkind\u001b[0m\u001b[1;33m,\u001b[0m \u001b[1;33m**\u001b[0m\u001b[0mkwds\u001b[0m\u001b[1;33m)\u001b[0m\u001b[1;33m(\u001b[0m\u001b[0mkind\u001b[0m\u001b[1;33m,\u001b[0m \u001b[0mx\u001b[0m\u001b[1;33m,\u001b[0m \u001b[0my\u001b[0m\u001b[1;33m)\u001b[0m\u001b[1;33m\u001b[0m\u001b[1;33m\u001b[0m\u001b[0m\n\u001b[0m\u001b[0;32m     80\u001b[0m \u001b[1;33m\u001b[0m\u001b[0m\n\u001b[0;32m     81\u001b[0m     \u001b[1;32mdef\u001b[0m \u001b[0m_get_converter\u001b[0m\u001b[1;33m(\u001b[0m\u001b[0mself\u001b[0m\u001b[1;33m,\u001b[0m \u001b[0mx\u001b[0m\u001b[1;33m=\u001b[0m\u001b[1;32mNone\u001b[0m\u001b[1;33m,\u001b[0m \u001b[0my\u001b[0m\u001b[1;33m=\u001b[0m\u001b[1;32mNone\u001b[0m\u001b[1;33m,\u001b[0m \u001b[0mkind\u001b[0m\u001b[1;33m=\u001b[0m\u001b[1;32mNone\u001b[0m\u001b[1;33m,\u001b[0m \u001b[1;33m**\u001b[0m\u001b[0mkwds\u001b[0m\u001b[1;33m)\u001b[0m\u001b[1;33m:\u001b[0m\u001b[1;33m\u001b[0m\u001b[1;33m\u001b[0m\u001b[0m\n",
      "\u001b[1;32m~\\anaconda3\\envs\\dev\\lib\\site-packages\\hvplot\\converter.py\u001b[0m in \u001b[0;36m__call__\u001b[1;34m(self, kind, x, y)\u001b[0m\n\u001b[0;32m   1133\u001b[0m                         \u001b[0mdataset\u001b[0m \u001b[1;33m=\u001b[0m \u001b[0mDataset\u001b[0m\u001b[1;33m(\u001b[0m\u001b[0mdata\u001b[0m\u001b[1;33m,\u001b[0m \u001b[0mself\u001b[0m\u001b[1;33m.\u001b[0m\u001b[0mindexes\u001b[0m\u001b[1;33m)\u001b[0m\u001b[1;33m\u001b[0m\u001b[1;33m\u001b[0m\u001b[0m\n\u001b[0;32m   1134\u001b[0m                     \u001b[1;32mexcept\u001b[0m \u001b[0mException\u001b[0m\u001b[1;33m:\u001b[0m\u001b[1;33m\u001b[0m\u001b[1;33m\u001b[0m\u001b[0m\n\u001b[1;32m-> 1135\u001b[1;33m                         \u001b[0mdataset\u001b[0m \u001b[1;33m=\u001b[0m \u001b[0mDataset\u001b[0m\u001b[1;33m(\u001b[0m\u001b[0mdata\u001b[0m\u001b[1;33m)\u001b[0m\u001b[1;33m\u001b[0m\u001b[1;33m\u001b[0m\u001b[0m\n\u001b[0m\u001b[0;32m   1136\u001b[0m                     \u001b[0mdataset\u001b[0m \u001b[1;33m=\u001b[0m \u001b[0mdataset\u001b[0m\u001b[1;33m.\u001b[0m\u001b[0mredim\u001b[0m\u001b[1;33m(\u001b[0m\u001b[1;33m**\u001b[0m\u001b[0mself\u001b[0m\u001b[1;33m.\u001b[0m\u001b[0m_redim\u001b[0m\u001b[1;33m)\u001b[0m\u001b[1;33m\u001b[0m\u001b[1;33m\u001b[0m\u001b[0m\n\u001b[0;32m   1137\u001b[0m                 \u001b[0mobj\u001b[0m \u001b[1;33m=\u001b[0m \u001b[0mmethod\u001b[0m\u001b[1;33m(\u001b[0m\u001b[0mx\u001b[0m\u001b[1;33m,\u001b[0m \u001b[0my\u001b[0m\u001b[1;33m)\u001b[0m\u001b[1;33m\u001b[0m\u001b[1;33m\u001b[0m\u001b[0m\n",
      "\u001b[1;32m~\\anaconda3\\envs\\dev\\lib\\site-packages\\holoviews\\core\\data\\__init__.py\u001b[0m in \u001b[0;36m__init__\u001b[1;34m(self, data, kdims, vdims, **kwargs)\u001b[0m\n\u001b[0;32m    340\u001b[0m         \u001b[0mvalidate_vdims\u001b[0m \u001b[1;33m=\u001b[0m \u001b[0mkwargs\u001b[0m\u001b[1;33m.\u001b[0m\u001b[0mpop\u001b[0m\u001b[1;33m(\u001b[0m\u001b[1;34m'_validate_vdims'\u001b[0m\u001b[1;33m,\u001b[0m \u001b[1;32mTrue\u001b[0m\u001b[1;33m)\u001b[0m\u001b[1;33m\u001b[0m\u001b[1;33m\u001b[0m\u001b[0m\n\u001b[0;32m    341\u001b[0m         initialized = Interface.initialize(type(self), data, kdims, vdims,\n\u001b[1;32m--> 342\u001b[1;33m                                            datatype=kwargs.get('datatype'))\n\u001b[0m\u001b[0;32m    343\u001b[0m         \u001b[1;33m(\u001b[0m\u001b[0mdata\u001b[0m\u001b[1;33m,\u001b[0m \u001b[0mself\u001b[0m\u001b[1;33m.\u001b[0m\u001b[0minterface\u001b[0m\u001b[1;33m,\u001b[0m \u001b[0mdims\u001b[0m\u001b[1;33m,\u001b[0m \u001b[0mextra_kws\u001b[0m\u001b[1;33m)\u001b[0m \u001b[1;33m=\u001b[0m \u001b[0minitialized\u001b[0m\u001b[1;33m\u001b[0m\u001b[1;33m\u001b[0m\u001b[0m\n\u001b[0;32m    344\u001b[0m         \u001b[0msuper\u001b[0m\u001b[1;33m(\u001b[0m\u001b[0mDataset\u001b[0m\u001b[1;33m,\u001b[0m \u001b[0mself\u001b[0m\u001b[1;33m)\u001b[0m\u001b[1;33m.\u001b[0m\u001b[0m__init__\u001b[0m\u001b[1;33m(\u001b[0m\u001b[0mdata\u001b[0m\u001b[1;33m,\u001b[0m \u001b[1;33m**\u001b[0m\u001b[0mdict\u001b[0m\u001b[1;33m(\u001b[0m\u001b[0mkwargs\u001b[0m\u001b[1;33m,\u001b[0m \u001b[1;33m**\u001b[0m\u001b[0mdict\u001b[0m\u001b[1;33m(\u001b[0m\u001b[0mdims\u001b[0m\u001b[1;33m,\u001b[0m \u001b[1;33m**\u001b[0m\u001b[0mextra_kws\u001b[0m\u001b[1;33m)\u001b[0m\u001b[1;33m)\u001b[0m\u001b[1;33m)\u001b[0m\u001b[1;33m\u001b[0m\u001b[1;33m\u001b[0m\u001b[0m\n",
      "\u001b[1;32m~\\anaconda3\\envs\\dev\\lib\\site-packages\\holoviews\\core\\data\\interface.py\u001b[0m in \u001b[0;36minitialize\u001b[1;34m(cls, eltype, data, kdims, vdims, datatype)\u001b[0m\n\u001b[0;32m    254\u001b[0m                 \u001b[1;32mcontinue\u001b[0m\u001b[1;33m\u001b[0m\u001b[1;33m\u001b[0m\u001b[0m\n\u001b[0;32m    255\u001b[0m             \u001b[1;32mtry\u001b[0m\u001b[1;33m:\u001b[0m\u001b[1;33m\u001b[0m\u001b[1;33m\u001b[0m\u001b[0m\n\u001b[1;32m--> 256\u001b[1;33m                 \u001b[1;33m(\u001b[0m\u001b[0mdata\u001b[0m\u001b[1;33m,\u001b[0m \u001b[0mdims\u001b[0m\u001b[1;33m,\u001b[0m \u001b[0mextra_kws\u001b[0m\u001b[1;33m)\u001b[0m \u001b[1;33m=\u001b[0m \u001b[0minterface\u001b[0m\u001b[1;33m.\u001b[0m\u001b[0minit\u001b[0m\u001b[1;33m(\u001b[0m\u001b[0meltype\u001b[0m\u001b[1;33m,\u001b[0m \u001b[0mdata\u001b[0m\u001b[1;33m,\u001b[0m \u001b[0mkdims\u001b[0m\u001b[1;33m,\u001b[0m \u001b[0mvdims\u001b[0m\u001b[1;33m)\u001b[0m\u001b[1;33m\u001b[0m\u001b[1;33m\u001b[0m\u001b[0m\n\u001b[0m\u001b[0;32m    257\u001b[0m                 \u001b[1;32mbreak\u001b[0m\u001b[1;33m\u001b[0m\u001b[1;33m\u001b[0m\u001b[0m\n\u001b[0;32m    258\u001b[0m             \u001b[1;32mexcept\u001b[0m \u001b[0mDataError\u001b[0m\u001b[1;33m:\u001b[0m\u001b[1;33m\u001b[0m\u001b[1;33m\u001b[0m\u001b[0m\n",
      "\u001b[1;32m~\\anaconda3\\envs\\dev\\lib\\site-packages\\holoviews\\core\\data\\pandas.py\u001b[0m in \u001b[0;36minit\u001b[1;34m(cls, eltype, data, kdims, vdims)\u001b[0m\n\u001b[0;32m     87\u001b[0m                                     \u001b[1;34m'columns (found duplicate %r columns). If you want to plot '\u001b[0m\u001b[1;33m\u001b[0m\u001b[1;33m\u001b[0m\u001b[0m\n\u001b[0;32m     88\u001b[0m                                     \u001b[1;34m'a column against itself simply declare two dimensions '\u001b[0m\u001b[1;33m\u001b[0m\u001b[1;33m\u001b[0m\u001b[0m\n\u001b[1;32m---> 89\u001b[1;33m                                     'with the same name. '% d, cls)\n\u001b[0m\u001b[0;32m     90\u001b[0m         \u001b[1;32melse\u001b[0m\u001b[1;33m:\u001b[0m\u001b[1;33m\u001b[0m\u001b[1;33m\u001b[0m\u001b[0m\n\u001b[0;32m     91\u001b[0m             \u001b[1;31m# Check if data is of non-numeric type\u001b[0m\u001b[1;33m\u001b[0m\u001b[1;33m\u001b[0m\u001b[1;33m\u001b[0m\u001b[0m\n",
      "\u001b[1;31mDataError\u001b[0m: Dimensions may not reference duplicated DataFrame columns (found duplicate 'Neighborhood' columns). If you want to plot a column against itself simply declare two dimensions with the same name. \n\nPandasInterface expects tabular data, for more information on supported datatypes see http://holoviews.org/user_guide/Tabular_Datasets.html"
     ]
    }
   ],
   "source": [
    "# Create a plot to analyze neighborhood info\n",
    "all_neighborhoods_df.hvplot.points(\n",
    "    'Lon',\n",
    "    'Lat',\n",
    "    geo=True,\n",
    "    color='gross_rent',\n",
    "    size='sale_price_sqr_foot',\n",
    "    tiles='OSM',\n",
    "    frame_width=700,\n",
    "    frame_height=500,\n",
    "    hover_cols='Neighborhood',\n",
    "    title='Average Sales Price and Gross Rent in San Fransisco')\n",
    "    "
   ]
  },
  {
   "cell_type": "markdown",
   "metadata": {},
   "source": [
    "### Step 5: Use the interactive map to answer the following question:"
   ]
  },
  {
   "cell_type": "markdown",
   "metadata": {},
   "source": [
    "**Question:** Which neighborhood has the highest gross rent, and which has the highest sale price per square foot?\n",
    "\n",
    "**Answer:** # YOUR ANSWER HERE"
   ]
  },
  {
   "cell_type": "markdown",
   "metadata": {},
   "source": [
    "## Compose Your Data Story\n",
    "\n",
    "Based on the visualizations that you have created, compose a data story that synthesizes your analysis by answering the following questions:"
   ]
  },
  {
   "cell_type": "markdown",
   "metadata": {},
   "source": [
    "**Question:**  How does the trend in rental income growth compare to the trend in sales prices? Does this same trend hold true for all the neighborhoods across San Francisco?\n",
    "\n",
    "**Answer:** # YOUR ANSWER HERE"
   ]
  },
  {
   "cell_type": "markdown",
   "metadata": {},
   "source": [
    "**Question:** What insights can you share with your company about the potential one-click, buy-and-rent strategy that they're pursuing? Do neighborhoods exist that you would suggest for investment, and why?\n",
    "\n",
    "**Answer:** # YOUR ANSWER HERE"
   ]
  },
  {
   "cell_type": "code",
   "execution_count": null,
   "metadata": {},
   "outputs": [],
   "source": []
  }
 ],
 "metadata": {
  "file_extension": ".py",
  "kernelspec": {
   "display_name": "Python 3 (ipykernel)",
   "language": "python",
   "name": "python3"
  },
  "language_info": {
   "codemirror_mode": {
    "name": "ipython",
    "version": 3
   },
   "file_extension": ".py",
   "mimetype": "text/x-python",
   "name": "python",
   "nbconvert_exporter": "python",
   "pygments_lexer": "ipython3",
   "version": "3.7.13"
  },
  "mimetype": "text/x-python",
  "name": "python",
  "npconvert_exporter": "python",
  "pygments_lexer": "ipython3",
  "version": 3
 },
 "nbformat": 4,
 "nbformat_minor": 4
}
